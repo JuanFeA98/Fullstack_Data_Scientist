{
 "cells": [
  {
   "cell_type": "markdown",
   "metadata": {},
   "source": [
    "## **Librerías**"
   ]
  },
  {
   "cell_type": "code",
   "execution_count": 1,
   "metadata": {},
   "outputs": [],
   "source": [
    "import pandas as pd\n",
    "import numpy as np\n",
    "\n",
    "import matplotlib.pyplot as plt\n",
    "import seaborn as sns"
   ]
  },
  {
   "cell_type": "code",
   "execution_count": 2,
   "metadata": {},
   "outputs": [],
   "source": [
    "from sklearn.metrics import mean_squared_error"
   ]
  },
  {
   "cell_type": "code",
   "execution_count": 3,
   "metadata": {},
   "outputs": [],
   "source": [
    "from scipy import stats"
   ]
  },
  {
   "cell_type": "code",
   "execution_count": 4,
   "metadata": {},
   "outputs": [],
   "source": [
    "import statsmodels.api as sm\n",
    "from statsmodels.formula.api import ols"
   ]
  },
  {
   "cell_type": "code",
   "execution_count": 22,
   "metadata": {},
   "outputs": [],
   "source": [
    "import itertools"
   ]
  },
  {
   "cell_type": "markdown",
   "metadata": {},
   "source": [
    "## **Datos**"
   ]
  },
  {
   "cell_type": "code",
   "execution_count": 5,
   "metadata": {},
   "outputs": [],
   "source": [
    "df_coffee = pd.read_csv('../Data/coffee_analysis.csv')"
   ]
  },
  {
   "cell_type": "code",
   "execution_count": 6,
   "metadata": {},
   "outputs": [
    {
     "data": {
      "text/html": [
       "<div>\n",
       "<style scoped>\n",
       "    .dataframe tbody tr th:only-of-type {\n",
       "        vertical-align: middle;\n",
       "    }\n",
       "\n",
       "    .dataframe tbody tr th {\n",
       "        vertical-align: top;\n",
       "    }\n",
       "\n",
       "    .dataframe thead th {\n",
       "        text-align: right;\n",
       "    }\n",
       "</style>\n",
       "<table border=\"1\" class=\"dataframe\">\n",
       "  <thead>\n",
       "    <tr style=\"text-align: right;\">\n",
       "      <th></th>\n",
       "      <th>name</th>\n",
       "      <th>roaster</th>\n",
       "      <th>roast</th>\n",
       "      <th>loc_country</th>\n",
       "      <th>origin_1</th>\n",
       "      <th>origin_2</th>\n",
       "      <th>100g_USD</th>\n",
       "      <th>rating</th>\n",
       "      <th>review_date</th>\n",
       "      <th>desc_1</th>\n",
       "      <th>desc_2</th>\n",
       "      <th>desc_3</th>\n",
       "    </tr>\n",
       "  </thead>\n",
       "  <tbody>\n",
       "    <tr>\n",
       "      <th>347</th>\n",
       "      <td>Ethiopia Gugi</td>\n",
       "      <td>Topeca Coffee Roasters</td>\n",
       "      <td>Medium-Light</td>\n",
       "      <td>United States</td>\n",
       "      <td>Guji Zone</td>\n",
       "      <td>Southern Ethiopia</td>\n",
       "      <td>4.7</td>\n",
       "      <td>93</td>\n",
       "      <td>December 2018</td>\n",
       "      <td>Fruit-toned, richly chocolaty. Dark chocolate,...</td>\n",
       "      <td>Southern Ethiopia coffees like this one are la...</td>\n",
       "      <td>A cleanly crisp yet plushly fruit-toned, natur...</td>\n",
       "    </tr>\n",
       "  </tbody>\n",
       "</table>\n",
       "</div>"
      ],
      "text/plain": [
       "              name                 roaster         roast    loc_country  \\\n",
       "347  Ethiopia Gugi  Topeca Coffee Roasters  Medium-Light  United States   \n",
       "\n",
       "      origin_1           origin_2  100g_USD  rating    review_date  \\\n",
       "347  Guji Zone  Southern Ethiopia       4.7      93  December 2018   \n",
       "\n",
       "                                                desc_1  \\\n",
       "347  Fruit-toned, richly chocolaty. Dark chocolate,...   \n",
       "\n",
       "                                                desc_2  \\\n",
       "347  Southern Ethiopia coffees like this one are la...   \n",
       "\n",
       "                                                desc_3  \n",
       "347  A cleanly crisp yet plushly fruit-toned, natur...  "
      ]
     },
     "execution_count": 6,
     "metadata": {},
     "output_type": "execute_result"
    }
   ],
   "source": [
    "df_coffee.sample()"
   ]
  },
  {
   "cell_type": "code",
   "execution_count": 7,
   "metadata": {},
   "outputs": [
    {
     "data": {
      "text/html": [
       "<div>\n",
       "<style scoped>\n",
       "    .dataframe tbody tr th:only-of-type {\n",
       "        vertical-align: middle;\n",
       "    }\n",
       "\n",
       "    .dataframe tbody tr th {\n",
       "        vertical-align: top;\n",
       "    }\n",
       "\n",
       "    .dataframe thead th {\n",
       "        text-align: right;\n",
       "    }\n",
       "</style>\n",
       "<table border=\"1\" class=\"dataframe\">\n",
       "  <thead>\n",
       "    <tr style=\"text-align: right;\">\n",
       "      <th></th>\n",
       "      <th>roast</th>\n",
       "      <th>count</th>\n",
       "    </tr>\n",
       "  </thead>\n",
       "  <tbody>\n",
       "    <tr>\n",
       "      <th>0</th>\n",
       "      <td>Medium-Light</td>\n",
       "      <td>1490</td>\n",
       "    </tr>\n",
       "    <tr>\n",
       "      <th>1</th>\n",
       "      <td>Light</td>\n",
       "      <td>287</td>\n",
       "    </tr>\n",
       "    <tr>\n",
       "      <th>2</th>\n",
       "      <td>Medium</td>\n",
       "      <td>259</td>\n",
       "    </tr>\n",
       "    <tr>\n",
       "      <th>3</th>\n",
       "      <td>Medium-Dark</td>\n",
       "      <td>39</td>\n",
       "    </tr>\n",
       "    <tr>\n",
       "      <th>4</th>\n",
       "      <td>Dark</td>\n",
       "      <td>5</td>\n",
       "    </tr>\n",
       "  </tbody>\n",
       "</table>\n",
       "</div>"
      ],
      "text/plain": [
       "          roast  count\n",
       "0  Medium-Light   1490\n",
       "1         Light    287\n",
       "2        Medium    259\n",
       "3   Medium-Dark     39\n",
       "4          Dark      5"
      ]
     },
     "execution_count": 7,
     "metadata": {},
     "output_type": "execute_result"
    }
   ],
   "source": [
    "# Exploramos nuestra variable objetivo\n",
    "pd.DataFrame(df_coffee.value_counts('roast')).reset_index()"
   ]
  },
  {
   "cell_type": "code",
   "execution_count": 8,
   "metadata": {},
   "outputs": [],
   "source": [
    "work_df = df_coffee.query('roast in (\"Medium-Light\", \"Light\", \"Medium\")')"
   ]
  },
  {
   "cell_type": "code",
   "execution_count": 9,
   "metadata": {},
   "outputs": [
    {
     "data": {
      "image/png": "[encoded data removed]",
      "text/plain": [
       "<Figure size 640x480 with 1 Axes>"
      ]
     },
     "metadata": {},
     "output_type": "display_data"
    }
   ],
   "source": [
    "sns.boxplot(data=work_df, x='roast', y='rating', hue='roast')\n",
    "\n",
    "plt.show()"
   ]
  },
  {
   "cell_type": "markdown",
   "metadata": {},
   "source": [
    "## **ANOVA**"
   ]
  },
  {
   "cell_type": "markdown",
   "metadata": {},
   "source": [
    "### **Definición de Hipótesis**"
   ]
  },
  {
   "cell_type": "code",
   "execution_count": 10,
   "metadata": {},
   "outputs": [
    {
     "data": {
      "text/plain": [
       "roast\n",
       "Medium-Light    1490\n",
       "Light            287\n",
       "Medium           259\n",
       "Name: count, dtype: int64"
      ]
     },
     "execution_count": 10,
     "metadata": {},
     "output_type": "execute_result"
    }
   ],
   "source": [
    "# Identificamos nuestros grupos/categorías\n",
    "work_df['roast'].value_counts()"
   ]
  },
  {
   "cell_type": "code",
   "execution_count": 11,
   "metadata": {},
   "outputs": [],
   "source": [
    "# Creamos listas para los registros numéricos de los grupos\n",
    "medium_light_df = work_df.query('roast == \"Medium-Light\"')['rating']\n",
    "medium_df = work_df.query('roast == \"Medium\"')['rating']\n",
    "light_df = work_df.query('roast == \"Light\"')['rating']"
   ]
  },
  {
   "cell_type": "code",
   "execution_count": 12,
   "metadata": {},
   "outputs": [],
   "source": [
    "# Aplicamos la formula del análisis de Varianza\n",
    "resultados_anova = stats.f_oneway(medium_light_df, medium_df, light_df)"
   ]
  },
  {
   "cell_type": "code",
   "execution_count": 13,
   "metadata": {},
   "outputs": [],
   "source": [
    "# Calculamos nuestros estadisticos\n",
    "estadistico_f = resultados_anova.statistic\n",
    "valor_p = resultados_anova.pvalue"
   ]
  },
  {
   "cell_type": "code",
   "execution_count": 14,
   "metadata": {},
   "outputs": [
    {
     "name": "stdout",
     "output_type": "stream",
     "text": [
      "Hay diferencias significativas entre al menos dos grupos.\n"
     ]
    }
   ],
   "source": [
    "# Evaluamos el p-value para determinar nuestras hipotesis\n",
    "if valor_p < 0.05:\n",
    "    print(\"Hay diferencias significativas entre al menos dos grupos.\")\n",
    "else:\n",
    "    print(\"No hay evidencia suficiente para afirmar diferencias significativas entre los grupos.\")"
   ]
  },
  {
   "cell_type": "markdown",
   "metadata": {},
   "source": [
    "### **Tabla ANOVA**"
   ]
  },
  {
   "cell_type": "code",
   "execution_count": 15,
   "metadata": {},
   "outputs": [],
   "source": [
    "# Creamos un dataframe con el grupo predictor y la variable que queremos predecir\n",
    "data = work_df[['roast', 'rating']].query('roast in (\"Medium-Light\", \"Medium\", \"Light\")')"
   ]
  },
  {
   "cell_type": "code",
   "execution_count": 16,
   "metadata": {},
   "outputs": [],
   "source": [
    "# Aplicamos nuestro modelo\n",
    "modelo_anova = ols('rating ~ roast', data=data).fit()"
   ]
  },
  {
   "cell_type": "code",
   "execution_count": 19,
   "metadata": {},
   "outputs": [
    {
     "data": {
      "text/html": [
       "<div>\n",
       "<style scoped>\n",
       "    .dataframe tbody tr th:only-of-type {\n",
       "        vertical-align: middle;\n",
       "    }\n",
       "\n",
       "    .dataframe tbody tr th {\n",
       "        vertical-align: top;\n",
       "    }\n",
       "\n",
       "    .dataframe thead th {\n",
       "        text-align: right;\n",
       "    }\n",
       "</style>\n",
       "<table border=\"1\" class=\"dataframe\">\n",
       "  <thead>\n",
       "    <tr style=\"text-align: right;\">\n",
       "      <th></th>\n",
       "      <th>sum_sq</th>\n",
       "      <th>df</th>\n",
       "      <th>F</th>\n",
       "      <th>PR(&gt;F)</th>\n",
       "    </tr>\n",
       "  </thead>\n",
       "  <tbody>\n",
       "    <tr>\n",
       "      <th>roast</th>\n",
       "      <td>247.171220</td>\n",
       "      <td>2.0</td>\n",
       "      <td>58.458423</td>\n",
       "      <td>2.065501e-25</td>\n",
       "    </tr>\n",
       "    <tr>\n",
       "      <th>Residual</th>\n",
       "      <td>4297.918662</td>\n",
       "      <td>2033.0</td>\n",
       "      <td>NaN</td>\n",
       "      <td>NaN</td>\n",
       "    </tr>\n",
       "  </tbody>\n",
       "</table>\n",
       "</div>"
      ],
      "text/plain": [
       "               sum_sq      df          F        PR(>F)\n",
       "roast      247.171220     2.0  58.458423  2.065501e-25\n",
       "Residual  4297.918662  2033.0        NaN           NaN"
      ]
     },
     "execution_count": 19,
     "metadata": {},
     "output_type": "execute_result"
    }
   ],
   "source": [
    "# Generamos la tabla de resultados\n",
    "tabla_anova = sm.stats.anova_lm(modelo_anova, typ=2)\n",
    "tabla_anova"
   ]
  },
  {
   "cell_type": "markdown",
   "metadata": {},
   "source": [
    "### **Pruebas T-Student**\n",
    "Ahora queremos determinar la diferencia concreta entre un grupo contra los demás."
   ]
  },
  {
   "cell_type": "code",
   "execution_count": 42,
   "metadata": {},
   "outputs": [
    {
     "data": {
      "text/plain": [
       "[('Medium-Light', 'Medium'), ('Medium-Light', 'Light'), ('Medium', 'Light')]"
      ]
     },
     "execution_count": 42,
     "metadata": {},
     "output_type": "execute_result"
    }
   ],
   "source": [
    "# Creamos una lista con las posibles combinaciones\n",
    "grupos_unicos = data['roast'].unique()\n",
    "\n",
    "combinaciones = list(itertools.combinations(list(grupos_unicos), 2))\n",
    "combinaciones"
   ]
  },
  {
   "cell_type": "code",
   "execution_count": 50,
   "metadata": {},
   "outputs": [],
   "source": [
    "# Definimos el nivel de significancia de nuestro ejercicio \n",
    "nivel_significancia = 0.05"
   ]
  },
  {
   "cell_type": "code",
   "execution_count": 53,
   "metadata": {},
   "outputs": [],
   "source": [
    "# Inicializamos la variable donde se almacenaran los resultados\n",
    "resultados_t = []\n",
    "\n",
    "# Iteramos sobre las combinaciones posibles\n",
    "for i in combinaciones:\n",
    "    # Definimos los respectivos grupos\n",
    "    grupo_1 = data.query(f'roast == \"{i[0]}\"')['rating']\n",
    "    grupo_2 = data.query(f'roast == \"{i[1]}\"')['rating']\n",
    "\n",
    "    # Calculamos nuestras estadisticas \n",
    "    t_statistic, p_value = stats.ttest_ind(grupo_1, grupo_2)\n",
    "    \n",
    "    # Definimos si se rechaza o no la hipótesis nula \n",
    "    rechazar_h0 = p_value < nivel_significancia\n",
    "\n",
    "    if valor_p < 0.05:\n",
    "        explicacion = (\"Hay diferencias significativas\")\n",
    "    else:\n",
    "        explicacion = (\"No hay evidencia suficiente para afirmar diferencias significativas.\")\n",
    "\n",
    "    # Creamos un registro con la información obtenida\n",
    "    resultados_t.append({\n",
    "        'Grupos Comparados': f'{i[0]} vs {i[1]}',\n",
    "        'Estadistico T': t_statistic,\n",
    "        'P_Value': p_value,\n",
    "        'Rechazar H0': rechazar_h0,\n",
    "        'Explicación': explicacion\n",
    "    })\n",
    "\n",
    "# Creamos una tabla con los resultados \n",
    "tabla_resumen_t = pd.DataFrame(resultados_t)"
   ]
  },
  {
   "cell_type": "code",
   "execution_count": 54,
   "metadata": {},
   "outputs": [
    {
     "data": {
      "text/html": [
       "<div>\n",
       "<style scoped>\n",
       "    .dataframe tbody tr th:only-of-type {\n",
       "        vertical-align: middle;\n",
       "    }\n",
       "\n",
       "    .dataframe tbody tr th {\n",
       "        vertical-align: top;\n",
       "    }\n",
       "\n",
       "    .dataframe thead th {\n",
       "        text-align: right;\n",
       "    }\n",
       "</style>\n",
       "<table border=\"1\" class=\"dataframe\">\n",
       "  <thead>\n",
       "    <tr style=\"text-align: right;\">\n",
       "      <th></th>\n",
       "      <th>Grupos Comparados</th>\n",
       "      <th>Estadistico T</th>\n",
       "      <th>P_Value</th>\n",
       "      <th>Rechazar H0</th>\n",
       "      <th>Explicación</th>\n",
       "    </tr>\n",
       "  </thead>\n",
       "  <tbody>\n",
       "    <tr>\n",
       "      <th>0</th>\n",
       "      <td>Medium-Light vs Medium</td>\n",
       "      <td>9.722248</td>\n",
       "      <td>8.548262e-22</td>\n",
       "      <td>True</td>\n",
       "      <td>Hay diferencias significativas</td>\n",
       "    </tr>\n",
       "    <tr>\n",
       "      <th>1</th>\n",
       "      <td>Medium-Light vs Light</td>\n",
       "      <td>-3.315067</td>\n",
       "      <td>9.346701e-04</td>\n",
       "      <td>True</td>\n",
       "      <td>Hay diferencias significativas</td>\n",
       "    </tr>\n",
       "    <tr>\n",
       "      <th>2</th>\n",
       "      <td>Medium vs Light</td>\n",
       "      <td>-8.822616</td>\n",
       "      <td>1.521855e-17</td>\n",
       "      <td>True</td>\n",
       "      <td>Hay diferencias significativas</td>\n",
       "    </tr>\n",
       "  </tbody>\n",
       "</table>\n",
       "</div>"
      ],
      "text/plain": [
       "        Grupos Comparados  Estadistico T       P_Value  Rechazar H0  \\\n",
       "0  Medium-Light vs Medium       9.722248  8.548262e-22         True   \n",
       "1   Medium-Light vs Light      -3.315067  9.346701e-04         True   \n",
       "2         Medium vs Light      -8.822616  1.521855e-17         True   \n",
       "\n",
       "                      Explicación  \n",
       "0  Hay diferencias significativas  \n",
       "1  Hay diferencias significativas  \n",
       "2  Hay diferencias significativas  "
      ]
     },
     "execution_count": 54,
     "metadata": {},
     "output_type": "execute_result"
    }
   ],
   "source": [
    "tabla_resumen_t"
   ]
  }
 ],
 "metadata": {
  "kernelspec": {
   "display_name": "venv",
   "language": "python",
   "name": "python3"
  },
  "language_info": {
   "codemirror_mode": {
    "name": "ipython",
    "version": 3
   },
   "file_extension": ".py",
   "mimetype": "text/x-python",
   "name": "python",
   "nbconvert_exporter": "python",
   "pygments_lexer": "ipython3",
   "version": "3.11.5"
  }
 },
 "nbformat": 4,
 "nbformat_minor": 2
}
