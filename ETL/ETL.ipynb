{
 "cells": [
  {
   "cell_type": "markdown",
   "id": "d4bef538-23e3-43a4-8f8e-37b9f2b7952b",
   "metadata": {},
   "source": [
    "# **ETL**"
   ]
  },
  {
   "cell_type": "markdown",
   "id": "80a1c7b7-904d-442c-8eca-70ed9c63138a",
   "metadata": {},
   "source": [
    "## **Librerías**"
   ]
  },
  {
   "cell_type": "code",
   "execution_count": 1,
   "id": "a25e03d6-bfd3-4f73-90bd-c72e15cb4804",
   "metadata": {},
   "outputs": [],
   "source": [
    "import pandas as pd\n",
    "import numpy as np"
   ]
  },
  {
   "cell_type": "code",
   "execution_count": 2,
   "id": "cca3ce30-73bf-4a63-8922-a4c6fecb967d",
   "metadata": {},
   "outputs": [],
   "source": [
    "from sqlalchemy import create_engine"
   ]
  },
  {
   "cell_type": "markdown",
   "id": "b57d7155-e9e1-49b8-802f-614562477537",
   "metadata": {},
   "source": [
    "## **Datos**"
   ]
  },
  {
   "cell_type": "code",
   "execution_count": 14,
   "id": "cd732de8-b1cb-4576-95e0-d14027e83a86",
   "metadata": {},
   "outputs": [],
   "source": [
    "operaciones = pd.read_csv('./Datos/operaciones.csv', sep=';')\n",
    "paises = pd.read_json('./Datos/paises.json')\n",
    "productos = pd.read_csv('./Datos/productos.csv')"
   ]
  }
 ],
 "metadata": {
  "kernelspec": {
   "display_name": "Python 3 (ipykernel)",
   "language": "python",
   "name": "python3"
  },
  "language_info": {
   "codemirror_mode": {
    "name": "ipython",
    "version": 3
   },
   "file_extension": ".py",
   "mimetype": "text/x-python",
   "name": "python",
   "nbconvert_exporter": "python",
   "pygments_lexer": "ipython3",
   "version": "3.10.4"
  },
  "vscode": {
   "interpreter": {
    "hash": "76ef66ed4bb586cfd5436adf7d3e1f212dbf162b26a74cae646337cacdb13cae"
   }
  }
 },
 "nbformat": 4,
 "nbformat_minor": 5
}
