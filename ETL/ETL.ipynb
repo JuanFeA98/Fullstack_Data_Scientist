{
 "cells": [
  {
   "cell_type": "markdown",
   "id": "d4bef538-23e3-43a4-8f8e-37b9f2b7952b",
   "metadata": {},
   "source": [
    "# **ETL**"
   ]
  },
  {
   "cell_type": "markdown",
   "id": "80a1c7b7-904d-442c-8eca-70ed9c63138a",
   "metadata": {},
   "source": [
    "## **Librerías**"
   ]
  },
  {
   "cell_type": "code",
   "execution_count": 1,
   "id": "a25e03d6-bfd3-4f73-90bd-c72e15cb4804",
   "metadata": {},
   "outputs": [],
   "source": [
    "import pandas as pd\n",
    "import numpy as np"
   ]
  },
  {
   "cell_type": "code",
   "execution_count": 2,
   "id": "cca3ce30-73bf-4a63-8922-a4c6fecb967d",
   "metadata": {},
   "outputs": [],
   "source": [
    "from sqlalchemy import create_engine"
   ]
  },
  {
   "cell_type": "code",
   "execution_count": 3,
   "id": "5edf8965-873c-4778-b7d7-d46e0523a135",
   "metadata": {},
   "outputs": [],
   "source": [
    "from utils import code_clean, code_comm"
   ]
  },
  {
   "cell_type": "markdown",
   "id": "b57d7155-e9e1-49b8-802f-614562477537",
   "metadata": {},
   "source": [
    "## **Datos - Cargue**"
   ]
  },
  {
   "cell_type": "code",
   "execution_count": 4,
   "id": "cd732de8-b1cb-4576-95e0-d14027e83a86",
   "metadata": {},
   "outputs": [],
   "source": [
    "df_trades = pd.read_csv('./Datos/operaciones.csv', sep=';')\n",
    "df_countries = pd.read_json('./Datos/paises.json')\n",
    "df_codes = pd.read_csv('./Datos/productos.csv')"
   ]
  },
  {
   "cell_type": "code",
   "execution_count": 5,
   "id": "58019f7f-a3d4-47c1-b1fe-66c479f099e3",
   "metadata": {},
   "outputs": [],
   "source": [
    "df_parents = df_codes.query('Level == 2').copy()"
   ]
  },
  {
   "cell_type": "markdown",
   "id": "765a5ecd-2c27-493c-9631-17dc1eb6bf56",
   "metadata": {},
   "source": [
    "## **Limpieza y Transformación**"
   ]
  },
  {
   "cell_type": "code",
   "execution_count": 6,
   "id": "ad259bd5-682e-4570-a622-a47faaccca56",
   "metadata": {},
   "outputs": [],
   "source": [
    "df_codes = df_codes[df_codes['Code_comm'].notnull()]"
   ]
  },
  {
   "cell_type": "code",
   "execution_count": 7,
   "id": "0609cbbb-9d34-4a73-93d8-d779807486ba",
   "metadata": {},
   "outputs": [],
   "source": [
    "df_codes['Code_Clean'] = df_codes['Code'].apply(lambda x: code_clean(x))\n",
    "df_codes['Code_comm'] = df_codes['Code_Clean'].apply(lambda x: code_comm(x))"
   ]
  },
  {
   "cell_type": "code",
   "execution_count": 8,
   "id": "17af1902-69fa-476a-9ab9-2018897b8007",
   "metadata": {},
   "outputs": [],
   "source": [
    "df_codes = pd.merge(\n",
    "    df_codes, \n",
    "    df_parents[['Code_comm', 'Description']], \n",
    "    how='left', \n",
    "    left_on='Code_comm', \n",
    "    right_on='Code_comm'\n",
    ")"
   ]
  },
  {
   "cell_type": "code",
   "execution_count": 9,
   "id": "04742253-a19f-4569-a400-9a1b51525df9",
   "metadata": {},
   "outputs": [],
   "source": [
    "df_codes.rename(\n",
    "    columns = {'Description_x': 'Description', 'Description_y': 'Parent_Description'}, \n",
    "    inplace=True\n",
    ")"
   ]
  },
  {
   "cell_type": "code",
   "execution_count": 10,
   "id": "1ad5e0a8-6348-444d-8c6b-38e24280ebd1",
   "metadata": {},
   "outputs": [],
   "source": [
    "wf_codes = df_codes[['Code_Clean', 'Description', 'Parent_Description']].copy()"
   ]
  },
  {
   "cell_type": "code",
   "execution_count": 11,
   "id": "79b966e1-0f3d-4556-9d97-bc33705e311e",
   "metadata": {},
   "outputs": [
    {
     "data": {
      "text/html": [
       "<div>\n",
       "<style scoped>\n",
       "    .dataframe tbody tr th:only-of-type {\n",
       "        vertical-align: middle;\n",
       "    }\n",
       "\n",
       "    .dataframe tbody tr th {\n",
       "        vertical-align: top;\n",
       "    }\n",
       "\n",
       "    .dataframe thead th {\n",
       "        text-align: right;\n",
       "    }\n",
       "</style>\n",
       "<table border=\"1\" class=\"dataframe\">\n",
       "  <thead>\n",
       "    <tr style=\"text-align: right;\">\n",
       "      <th></th>\n",
       "      <th>Code_Clean</th>\n",
       "      <th>Description</th>\n",
       "      <th>Parent_Description</th>\n",
       "    </tr>\n",
       "  </thead>\n",
       "  <tbody>\n",
       "    <tr>\n",
       "      <th>0</th>\n",
       "      <td>10011</td>\n",
       "      <td>LIVE ANIMALS; ANIMAL PRODUCTS</td>\n",
       "      <td>LIVE ANIMALS</td>\n",
       "    </tr>\n",
       "    <tr>\n",
       "      <th>1</th>\n",
       "      <td>10021</td>\n",
       "      <td>LIVE ANIMALS</td>\n",
       "      <td>LIVE ANIMALS</td>\n",
       "    </tr>\n",
       "    <tr>\n",
       "      <th>2</th>\n",
       "      <td>10100</td>\n",
       "      <td>Live horses, asses, mules and hinnies</td>\n",
       "      <td>LIVE ANIMALS</td>\n",
       "    </tr>\n",
       "    <tr>\n",
       "      <th>3</th>\n",
       "      <td>10121</td>\n",
       "      <td>Pure-bred breeding horses</td>\n",
       "      <td>LIVE ANIMALS</td>\n",
       "    </tr>\n",
       "    <tr>\n",
       "      <th>4</th>\n",
       "      <td>10129</td>\n",
       "      <td>Live horses (excl. pure-bred for breeding)</td>\n",
       "      <td>LIVE ANIMALS</td>\n",
       "    </tr>\n",
       "    <tr>\n",
       "      <th>...</th>\n",
       "      <td>...</td>\n",
       "      <td>...</td>\n",
       "      <td>...</td>\n",
       "    </tr>\n",
       "    <tr>\n",
       "      <th>6441</th>\n",
       "      <td>970200</td>\n",
       "      <td>Original engravings, prints and lithographs</td>\n",
       "      <td>WORKS OF ART, COLLECTORS' PIECES AND ANTIQUES</td>\n",
       "    </tr>\n",
       "    <tr>\n",
       "      <th>6442</th>\n",
       "      <td>970300</td>\n",
       "      <td>Original sculptures and statuary, in any material</td>\n",
       "      <td>WORKS OF ART, COLLECTORS' PIECES AND ANTIQUES</td>\n",
       "    </tr>\n",
       "    <tr>\n",
       "      <th>6443</th>\n",
       "      <td>970400</td>\n",
       "      <td>Postage or revenue stamps, stamp-postmarks, fi...</td>\n",
       "      <td>WORKS OF ART, COLLECTORS' PIECES AND ANTIQUES</td>\n",
       "    </tr>\n",
       "    <tr>\n",
       "      <th>6444</th>\n",
       "      <td>970500</td>\n",
       "      <td>Collections and collector's pieces of zoologic...</td>\n",
       "      <td>WORKS OF ART, COLLECTORS' PIECES AND ANTIQUES</td>\n",
       "    </tr>\n",
       "    <tr>\n",
       "      <th>6445</th>\n",
       "      <td>970600</td>\n",
       "      <td>Antiques of &gt; 100 years old</td>\n",
       "      <td>WORKS OF ART, COLLECTORS' PIECES AND ANTIQUES</td>\n",
       "    </tr>\n",
       "  </tbody>\n",
       "</table>\n",
       "<p>6446 rows × 3 columns</p>\n",
       "</div>"
      ],
      "text/plain": [
       "     Code_Clean                                        Description  \\\n",
       "0         10011                      LIVE ANIMALS; ANIMAL PRODUCTS   \n",
       "1         10021                                       LIVE ANIMALS   \n",
       "2         10100              Live horses, asses, mules and hinnies   \n",
       "3         10121                          Pure-bred breeding horses   \n",
       "4         10129         Live horses (excl. pure-bred for breeding)   \n",
       "...         ...                                                ...   \n",
       "6441     970200        Original engravings, prints and lithographs   \n",
       "6442     970300  Original sculptures and statuary, in any material   \n",
       "6443     970400  Postage or revenue stamps, stamp-postmarks, fi...   \n",
       "6444     970500  Collections and collector's pieces of zoologic...   \n",
       "6445     970600                        Antiques of > 100 years old   \n",
       "\n",
       "                                 Parent_Description  \n",
       "0                                      LIVE ANIMALS  \n",
       "1                                      LIVE ANIMALS  \n",
       "2                                      LIVE ANIMALS  \n",
       "3                                      LIVE ANIMALS  \n",
       "4                                      LIVE ANIMALS  \n",
       "...                                             ...  \n",
       "6441  WORKS OF ART, COLLECTORS' PIECES AND ANTIQUES  \n",
       "6442  WORKS OF ART, COLLECTORS' PIECES AND ANTIQUES  \n",
       "6443  WORKS OF ART, COLLECTORS' PIECES AND ANTIQUES  \n",
       "6444  WORKS OF ART, COLLECTORS' PIECES AND ANTIQUES  \n",
       "6445  WORKS OF ART, COLLECTORS' PIECES AND ANTIQUES  \n",
       "\n",
       "[6446 rows x 3 columns]"
      ]
     },
     "execution_count": 11,
     "metadata": {},
     "output_type": "execute_result"
    }
   ],
   "source": [
    "wf_codes"
   ]
  }
 ],
 "metadata": {
  "kernelspec": {
   "display_name": "Python 3 (ipykernel)",
   "language": "python",
   "name": "python3"
  },
  "language_info": {
   "codemirror_mode": {
    "name": "ipython",
    "version": 3
   },
   "file_extension": ".py",
   "mimetype": "text/x-python",
   "name": "python",
   "nbconvert_exporter": "python",
   "pygments_lexer": "ipython3",
   "version": "3.10.4"
  },
  "vscode": {
   "interpreter": {
    "hash": "76ef66ed4bb586cfd5436adf7d3e1f212dbf162b26a74cae646337cacdb13cae"
   }
  }
 },
 "nbformat": 4,
 "nbformat_minor": 5
}
