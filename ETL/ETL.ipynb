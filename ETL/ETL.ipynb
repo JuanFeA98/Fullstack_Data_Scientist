{
 "cells": [
  {
   "cell_type": "markdown",
   "id": "d4bef538-23e3-43a4-8f8e-37b9f2b7952b",
   "metadata": {},
   "source": [
    "# **ETL**"
   ]
  },
  {
   "cell_type": "markdown",
   "id": "80a1c7b7-904d-442c-8eca-70ed9c63138a",
   "metadata": {},
   "source": [
    "## **Librerías**"
   ]
  },
  {
   "cell_type": "code",
   "execution_count": 1,
   "id": "a25e03d6-bfd3-4f73-90bd-c72e15cb4804",
   "metadata": {},
   "outputs": [],
   "source": [
    "import pandas as pd\n",
    "import numpy as np"
   ]
  },
  {
   "cell_type": "code",
   "execution_count": 2,
   "id": "cca3ce30-73bf-4a63-8922-a4c6fecb967d",
   "metadata": {},
   "outputs": [],
   "source": [
    "from sqlalchemy import create_engine"
   ]
  },
  {
   "cell_type": "markdown",
   "id": "b57d7155-e9e1-49b8-802f-614562477537",
   "metadata": {},
   "source": [
    "## **Datos - Cargue**"
   ]
  },
  {
   "cell_type": "code",
   "execution_count": 47,
   "id": "cd732de8-b1cb-4576-95e0-d14027e83a86",
   "metadata": {},
   "outputs": [],
   "source": [
    "df_trades = pd.read_csv('./Datos/operaciones.csv', sep=';')\n",
    "df_countries = pd.read_json('./Datos/paises.json')\n",
    "df_codes = pd.read_csv('./Datos/productos.csv')"
   ]
  },
  {
   "cell_type": "code",
   "execution_count": 48,
   "id": "58019f7f-a3d4-47c1-b1fe-66c479f099e3",
   "metadata": {},
   "outputs": [],
   "source": [
    "df_parents = df_codes.query('Level == 2').copy()"
   ]
  },
  {
   "cell_type": "markdown",
   "id": "765a5ecd-2c27-493c-9631-17dc1eb6bf56",
   "metadata": {},
   "source": [
    "## **Limpieza y Transformación**"
   ]
  },
  {
   "cell_type": "code",
   "execution_count": 49,
   "id": "ad259bd5-682e-4570-a622-a47faaccca56",
   "metadata": {},
   "outputs": [],
   "source": [
    "df_codes = df_codes[df_codes['Code_comm'].notnull()]"
   ]
  },
  {
   "cell_type": "code",
   "execution_count": 50,
   "id": "2bbb2320-0f3d-42fd-8c30-ecde3debbb36",
   "metadata": {},
   "outputs": [],
   "source": [
    "def clean_code(text):\n",
    "    text = str(text)\n",
    "    parent_code = None\n",
    "    \n",
    "    if len(text) == 11:\n",
    "        code = text[:5]\n",
    "        parent_code = text[:1]\n",
    "    else:\n",
    "        code = text[:6]\n",
    "        parent_code = text[:2]    \n",
    "    \n",
    "    try:\n",
    "        #parent = df_parents.query(f'Code_comm == {parent_code}')['Description'].values[0]\n",
    "        parent = df_parents[df_parents['Code_comm']==parent_code]['Description'].values[0]\n",
    "    except:\n",
    "        parent = None\n",
    "    \n",
    "    return (code, parent)"
   ]
  },
  {
   "cell_type": "code",
   "execution_count": 51,
   "id": "65cf8cf9-5c8c-48dd-b418-1f7a7bc6a96f",
   "metadata": {},
   "outputs": [],
   "source": [
    "df_codes[['clean_code', 'parent_description']] = df_codes.apply(\n",
    "    lambda x: clean_code(x['Code']), \n",
    "    axis=1, \n",
    "    result_type='expand'\n",
    ")"
   ]
  },
  {
   "cell_type": "code",
   "execution_count": 52,
   "id": "79b53a02-5830-4a05-817c-7aa609677ccc",
   "metadata": {},
   "outputs": [],
   "source": [
    "df_codes = df_codes[df_codes['clean_code'].notnull()]"
   ]
  },
  {
   "cell_type": "code",
   "execution_count": 54,
   "id": "066d3ad4-aeaf-44b4-bfd8-8f39ed4453cf",
   "metadata": {},
   "outputs": [
    {
     "data": {
      "text/html": [
       "<div>\n",
       "<style scoped>\n",
       "    .dataframe tbody tr th:only-of-type {\n",
       "        vertical-align: middle;\n",
       "    }\n",
       "\n",
       "    .dataframe tbody tr th {\n",
       "        vertical-align: top;\n",
       "    }\n",
       "\n",
       "    .dataframe thead th {\n",
       "        text-align: right;\n",
       "    }\n",
       "</style>\n",
       "<table border=\"1\" class=\"dataframe\">\n",
       "  <thead>\n",
       "    <tr style=\"text-align: right;\">\n",
       "      <th></th>\n",
       "      <th>clean_code</th>\n",
       "      <th>Description</th>\n",
       "      <th>parent_description</th>\n",
       "    </tr>\n",
       "  </thead>\n",
       "  <tbody>\n",
       "    <tr>\n",
       "      <th>1</th>\n",
       "      <td>10011</td>\n",
       "      <td>LIVE ANIMALS; ANIMAL PRODUCTS</td>\n",
       "      <td>LIVE ANIMALS</td>\n",
       "    </tr>\n",
       "    <tr>\n",
       "      <th>2</th>\n",
       "      <td>10021</td>\n",
       "      <td>LIVE ANIMALS</td>\n",
       "      <td>LIVE ANIMALS</td>\n",
       "    </tr>\n",
       "    <tr>\n",
       "      <th>3</th>\n",
       "      <td>10100</td>\n",
       "      <td>Live horses, asses, mules and hinnies</td>\n",
       "      <td>LIVE ANIMALS</td>\n",
       "    </tr>\n",
       "    <tr>\n",
       "      <th>5</th>\n",
       "      <td>10121</td>\n",
       "      <td>Pure-bred breeding horses</td>\n",
       "      <td>LIVE ANIMALS</td>\n",
       "    </tr>\n",
       "    <tr>\n",
       "      <th>6</th>\n",
       "      <td>10129</td>\n",
       "      <td>Live horses (excl. pure-bred for breeding)</td>\n",
       "      <td>LIVE ANIMALS</td>\n",
       "    </tr>\n",
       "    <tr>\n",
       "      <th>...</th>\n",
       "      <td>...</td>\n",
       "      <td>...</td>\n",
       "      <td>...</td>\n",
       "    </tr>\n",
       "    <tr>\n",
       "      <th>7432</th>\n",
       "      <td>970200</td>\n",
       "      <td>Original engravings, prints and lithographs</td>\n",
       "      <td>WORKS OF ART, COLLECTORS' PIECES AND ANTIQUES</td>\n",
       "    </tr>\n",
       "    <tr>\n",
       "      <th>7433</th>\n",
       "      <td>970300</td>\n",
       "      <td>Original sculptures and statuary, in any material</td>\n",
       "      <td>WORKS OF ART, COLLECTORS' PIECES AND ANTIQUES</td>\n",
       "    </tr>\n",
       "    <tr>\n",
       "      <th>7434</th>\n",
       "      <td>970400</td>\n",
       "      <td>Postage or revenue stamps, stamp-postmarks, fi...</td>\n",
       "      <td>WORKS OF ART, COLLECTORS' PIECES AND ANTIQUES</td>\n",
       "    </tr>\n",
       "    <tr>\n",
       "      <th>7435</th>\n",
       "      <td>970500</td>\n",
       "      <td>Collections and collector's pieces of zoologic...</td>\n",
       "      <td>WORKS OF ART, COLLECTORS' PIECES AND ANTIQUES</td>\n",
       "    </tr>\n",
       "    <tr>\n",
       "      <th>7436</th>\n",
       "      <td>970600</td>\n",
       "      <td>Antiques of &gt; 100 years old</td>\n",
       "      <td>WORKS OF ART, COLLECTORS' PIECES AND ANTIQUES</td>\n",
       "    </tr>\n",
       "  </tbody>\n",
       "</table>\n",
       "<p>6446 rows × 3 columns</p>\n",
       "</div>"
      ],
      "text/plain": [
       "     clean_code                                        Description  \\\n",
       "1         10011                      LIVE ANIMALS; ANIMAL PRODUCTS   \n",
       "2         10021                                       LIVE ANIMALS   \n",
       "3         10100              Live horses, asses, mules and hinnies   \n",
       "5         10121                          Pure-bred breeding horses   \n",
       "6         10129         Live horses (excl. pure-bred for breeding)   \n",
       "...         ...                                                ...   \n",
       "7432     970200        Original engravings, prints and lithographs   \n",
       "7433     970300  Original sculptures and statuary, in any material   \n",
       "7434     970400  Postage or revenue stamps, stamp-postmarks, fi...   \n",
       "7435     970500  Collections and collector's pieces of zoologic...   \n",
       "7436     970600                        Antiques of > 100 years old   \n",
       "\n",
       "                                 parent_description  \n",
       "1                                      LIVE ANIMALS  \n",
       "2                                      LIVE ANIMALS  \n",
       "3                                      LIVE ANIMALS  \n",
       "5                                      LIVE ANIMALS  \n",
       "6                                      LIVE ANIMALS  \n",
       "...                                             ...  \n",
       "7432  WORKS OF ART, COLLECTORS' PIECES AND ANTIQUES  \n",
       "7433  WORKS OF ART, COLLECTORS' PIECES AND ANTIQUES  \n",
       "7434  WORKS OF ART, COLLECTORS' PIECES AND ANTIQUES  \n",
       "7435  WORKS OF ART, COLLECTORS' PIECES AND ANTIQUES  \n",
       "7436  WORKS OF ART, COLLECTORS' PIECES AND ANTIQUES  \n",
       "\n",
       "[6446 rows x 3 columns]"
      ]
     },
     "execution_count": 54,
     "metadata": {},
     "output_type": "execute_result"
    }
   ],
   "source": [
    "df_codes[['clean_code', 'Description', 'parent_description']]"
   ]
  },
  {
   "cell_type": "code",
   "execution_count": null,
   "id": "ef6ac8cb-7465-4cd4-957f-254251a6e66e",
   "metadata": {},
   "outputs": [],
   "source": []
  }
 ],
 "metadata": {
  "kernelspec": {
   "display_name": "Python 3 (ipykernel)",
   "language": "python",
   "name": "python3"
  },
  "language_info": {
   "codemirror_mode": {
    "name": "ipython",
    "version": 3
   },
   "file_extension": ".py",
   "mimetype": "text/x-python",
   "name": "python",
   "nbconvert_exporter": "python",
   "pygments_lexer": "ipython3",
   "version": "3.10.4"
  },
  "vscode": {
   "interpreter": {
    "hash": "76ef66ed4bb586cfd5436adf7d3e1f212dbf162b26a74cae646337cacdb13cae"
   }
  }
 },
 "nbformat": 4,
 "nbformat_minor": 5
}
