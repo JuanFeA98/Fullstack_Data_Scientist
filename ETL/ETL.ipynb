{
 "cells": [
  {
   "cell_type": "markdown",
   "id": "d4bef538-23e3-43a4-8f8e-37b9f2b7952b",
   "metadata": {},
   "source": [
    "# **ETL**"
   ]
  },
  {
   "cell_type": "markdown",
   "id": "80a1c7b7-904d-442c-8eca-70ed9c63138a",
   "metadata": {},
   "source": [
    "## **Librerías**"
   ]
  },
  {
   "cell_type": "code",
   "execution_count": 1,
   "id": "a25e03d6-bfd3-4f73-90bd-c72e15cb4804",
   "metadata": {},
   "outputs": [],
   "source": [
    "import pandas as pd\n",
    "import numpy as np"
   ]
  },
  {
   "cell_type": "code",
   "execution_count": 2,
   "id": "cca3ce30-73bf-4a63-8922-a4c6fecb967d",
   "metadata": {},
   "outputs": [],
   "source": [
    "from sqlalchemy import create_engine"
   ]
  },
  {
   "cell_type": "code",
   "execution_count": 3,
   "id": "06442789",
   "metadata": {},
   "outputs": [],
   "source": [
    "from utils import code_clean, code_comm, create_dimension"
   ]
  },
  {
   "cell_type": "markdown",
   "id": "8e1580df",
   "metadata": {},
   "source": [
    "## **Datos - Cargue**"
   ]
  },
  {
   "cell_type": "code",
   "execution_count": 4,
   "id": "41e09dea",
   "metadata": {},
   "outputs": [],
   "source": [
    "df_trades = pd.read_csv('./Datos/operaciones.csv', sep=';')\n",
    "df_countries = pd.read_json('./Datos/paises.json')\n",
    "df_codes = pd.read_csv('./Datos/productos.csv')"
   ]
  },
  {
   "cell_type": "code",
   "execution_count": 5,
   "id": "1f094543",
   "metadata": {},
   "outputs": [],
   "source": [
    "df_parents = df_codes.query('Level == 2').copy()"
   ]
  },
  {
   "cell_type": "markdown",
   "id": "faf783ac",
   "metadata": {},
   "source": [
    "## **Limpieza y transformación**"
   ]
  },
  {
   "cell_type": "markdown",
   "id": "a51c351c",
   "metadata": {},
   "source": [
    "#### **Limpiando el código de la partida**"
   ]
  },
  {
   "cell_type": "code",
   "execution_count": 6,
   "id": "37289971",
   "metadata": {},
   "outputs": [],
   "source": [
    "# Eliminamos los valores nulos\n",
    "df_codes = df_codes[df_codes['Code_comm'].notnull()]"
   ]
  },
  {
   "cell_type": "code",
   "execution_count": 7,
   "id": "d2cf07c6",
   "metadata": {},
   "outputs": [],
   "source": [
    "# Ajustamos el código para realizar los cruces\n",
    "df_codes['Code_Clean'] = df_codes['Code'].apply(lambda x: code_clean(x))\n",
    "df_codes['Code_comm'] = df_codes['Code_Clean'].apply(lambda x: code_comm(x))"
   ]
  },
  {
   "cell_type": "code",
   "execution_count": 8,
   "id": "9e937db8",
   "metadata": {},
   "outputs": [],
   "source": [
    "# Cruzamos los codigos con la descripción maestra\n",
    "df_codes = pd.merge(\n",
    "    df_codes, \n",
    "    df_parents[['Code_comm', 'Description']], \n",
    "    how='left', \n",
    "    left_on='Code_comm', \n",
    "    right_on='Code_comm'\n",
    ")"
   ]
  },
  {
   "cell_type": "code",
   "execution_count": 9,
   "id": "585af303",
   "metadata": {},
   "outputs": [],
   "source": [
    "# Ajustamos los nombres de los campos\n",
    "df_codes.rename(\n",
    "    columns = {'Description_x': 'Description', 'Description_y': 'Parent_Description'}, \n",
    "    inplace=True\n",
    ")"
   ]
  },
  {
   "cell_type": "code",
   "execution_count": 10,
   "id": "727aad23",
   "metadata": {},
   "outputs": [],
   "source": [
    "# Cramos un nuevo dataframe con los campos que vamos a utilizar\n",
    "wf_codes = df_codes[['Code_Clean', 'Description', 'Parent_Description']].copy()"
   ]
  },
  {
   "cell_type": "code",
   "execution_count": 11,
   "id": "fe264e67",
   "metadata": {},
   "outputs": [],
   "source": [
    "# Creamos un id para cada registro\n",
    "wf_codes['id_code'] = wf_codes.index + 1"
   ]
  },
  {
   "cell_type": "code",
   "execution_count": 12,
   "id": "ae4e3d0c",
   "metadata": {},
   "outputs": [],
   "source": [
    "# Ajustamos el formato del código\n",
    "wf_codes['Code_Clean'] = wf_codes['Code_Clean'].apply(lambda x: int(x))"
   ]
  },
  {
   "cell_type": "code",
   "execution_count": 13,
   "id": "a210157e",
   "metadata": {},
   "outputs": [
    {
     "data": {
      "text/html": [
       "<div>\n",
       "<style scoped>\n",
       "    .dataframe tbody tr th:only-of-type {\n",
       "        vertical-align: middle;\n",
       "    }\n",
       "\n",
       "    .dataframe tbody tr th {\n",
       "        vertical-align: top;\n",
       "    }\n",
       "\n",
       "    .dataframe thead th {\n",
       "        text-align: right;\n",
       "    }\n",
       "</style>\n",
       "<table border=\"1\" class=\"dataframe\">\n",
       "  <thead>\n",
       "    <tr style=\"text-align: right;\">\n",
       "      <th></th>\n",
       "      <th>Code_Clean</th>\n",
       "      <th>Description</th>\n",
       "      <th>Parent_Description</th>\n",
       "      <th>id_code</th>\n",
       "    </tr>\n",
       "  </thead>\n",
       "  <tbody>\n",
       "    <tr>\n",
       "      <th>0</th>\n",
       "      <td>10011</td>\n",
       "      <td>LIVE ANIMALS; ANIMAL PRODUCTS</td>\n",
       "      <td>LIVE ANIMALS</td>\n",
       "      <td>1</td>\n",
       "    </tr>\n",
       "    <tr>\n",
       "      <th>1</th>\n",
       "      <td>10021</td>\n",
       "      <td>LIVE ANIMALS</td>\n",
       "      <td>LIVE ANIMALS</td>\n",
       "      <td>2</td>\n",
       "    </tr>\n",
       "    <tr>\n",
       "      <th>2</th>\n",
       "      <td>10100</td>\n",
       "      <td>Live horses, asses, mules and hinnies</td>\n",
       "      <td>LIVE ANIMALS</td>\n",
       "      <td>3</td>\n",
       "    </tr>\n",
       "    <tr>\n",
       "      <th>3</th>\n",
       "      <td>10121</td>\n",
       "      <td>Pure-bred breeding horses</td>\n",
       "      <td>LIVE ANIMALS</td>\n",
       "      <td>4</td>\n",
       "    </tr>\n",
       "    <tr>\n",
       "      <th>4</th>\n",
       "      <td>10129</td>\n",
       "      <td>Live horses (excl. pure-bred for breeding)</td>\n",
       "      <td>LIVE ANIMALS</td>\n",
       "      <td>5</td>\n",
       "    </tr>\n",
       "  </tbody>\n",
       "</table>\n",
       "</div>"
      ],
      "text/plain": [
       "   Code_Clean                                 Description Parent_Description  \\\n",
       "0       10011               LIVE ANIMALS; ANIMAL PRODUCTS       LIVE ANIMALS   \n",
       "1       10021                                LIVE ANIMALS       LIVE ANIMALS   \n",
       "2       10100       Live horses, asses, mules and hinnies       LIVE ANIMALS   \n",
       "3       10121                   Pure-bred breeding horses       LIVE ANIMALS   \n",
       "4       10129  Live horses (excl. pure-bred for breeding)       LIVE ANIMALS   \n",
       "\n",
       "   id_code  \n",
       "0        1  \n",
       "1        2  \n",
       "2        3  \n",
       "3        4  \n",
       "4        5  "
      ]
     },
     "execution_count": 13,
     "metadata": {},
     "output_type": "execute_result"
    }
   ],
   "source": [
    "wf_codes.head()"
   ]
  },
  {
   "cell_type": "markdown",
   "id": "84cf491a",
   "metadata": {},
   "source": [
    "#### **Limpiando el código de los países**"
   ]
  },
  {
   "cell_type": "code",
   "execution_count": 14,
   "id": "7edd5c27",
   "metadata": {},
   "outputs": [],
   "source": [
    "# Seleccionamos las columnas que vamos a utilizar\n",
    "wf_countries = df_countries[['alpha-3', 'country', 'region', 'sub-region']].copy()"
   ]
  },
  {
   "cell_type": "code",
   "execution_count": 15,
   "id": "16e34e29",
   "metadata": {},
   "outputs": [],
   "source": [
    "# Eliminamos los valores nulos\n",
    "wf_countries = wf_countries[wf_countries['alpha-3'].notnull()]"
   ]
  },
  {
   "cell_type": "code",
   "execution_count": 16,
   "id": "99d23563",
   "metadata": {},
   "outputs": [],
   "source": [
    "# Creamos un id para cada registro\n",
    "wf_countries['id_country'] = wf_countries.index + 1"
   ]
  },
  {
   "cell_type": "code",
   "execution_count": 17,
   "id": "94d8b8b6",
   "metadata": {},
   "outputs": [
    {
     "data": {
      "text/html": [
       "<div>\n",
       "<style scoped>\n",
       "    .dataframe tbody tr th:only-of-type {\n",
       "        vertical-align: middle;\n",
       "    }\n",
       "\n",
       "    .dataframe tbody tr th {\n",
       "        vertical-align: top;\n",
       "    }\n",
       "\n",
       "    .dataframe thead th {\n",
       "        text-align: right;\n",
       "    }\n",
       "</style>\n",
       "<table border=\"1\" class=\"dataframe\">\n",
       "  <thead>\n",
       "    <tr style=\"text-align: right;\">\n",
       "      <th></th>\n",
       "      <th>alpha-3</th>\n",
       "      <th>country</th>\n",
       "      <th>region</th>\n",
       "      <th>sub-region</th>\n",
       "      <th>id_country</th>\n",
       "    </tr>\n",
       "  </thead>\n",
       "  <tbody>\n",
       "    <tr>\n",
       "      <th>105</th>\n",
       "      <td>MYS</td>\n",
       "      <td>Malaysia</td>\n",
       "      <td>Asia</td>\n",
       "      <td>South-eastern Asia</td>\n",
       "      <td>106</td>\n",
       "    </tr>\n",
       "    <tr>\n",
       "      <th>250</th>\n",
       "      <td>NFK</td>\n",
       "      <td>Norfolk Island</td>\n",
       "      <td>Oceania</td>\n",
       "      <td>Australia and New Zealand</td>\n",
       "      <td>251</td>\n",
       "    </tr>\n",
       "    <tr>\n",
       "      <th>36</th>\n",
       "      <td>COL</td>\n",
       "      <td>Colombia</td>\n",
       "      <td>Americas</td>\n",
       "      <td>Latin America and the Caribbean</td>\n",
       "      <td>37</td>\n",
       "    </tr>\n",
       "  </tbody>\n",
       "</table>\n",
       "</div>"
      ],
      "text/plain": [
       "    alpha-3         country    region                       sub-region  \\\n",
       "105     MYS        Malaysia      Asia               South-eastern Asia   \n",
       "250     NFK  Norfolk Island   Oceania        Australia and New Zealand   \n",
       "36      COL        Colombia  Americas  Latin America and the Caribbean   \n",
       "\n",
       "     id_country  \n",
       "105         106  \n",
       "250         251  \n",
       "36           37  "
      ]
     },
     "execution_count": 17,
     "metadata": {},
     "output_type": "execute_result"
    }
   ],
   "source": [
    "wf_countries.sample(3)"
   ]
  },
  {
   "cell_type": "markdown",
   "id": "c58c59ce",
   "metadata": {},
   "source": [
    "#### **DataFrame de Operaciones**"
   ]
  },
  {
   "cell_type": "code",
   "execution_count": 18,
   "id": "ed5ed46a",
   "metadata": {},
   "outputs": [],
   "source": [
    "# Combinamos los dataframes\n",
    "wf = pd.merge(df_trades, wf_codes[['Code_Clean', 'id_code']], how='left', left_on='COMM_CODE', right_on='Code_Clean')\n",
    "wf = pd.merge(wf, wf_countries[['alpha-3', 'id_country']], how='left', left_on='COUNTRY_CODE', right_on='alpha-3')"
   ]
  },
  {
   "cell_type": "code",
   "execution_count": 19,
   "id": "4f346ac4",
   "metadata": {},
   "outputs": [],
   "source": [
    "# Creamos dataframes intermedios\n",
    "df_quantity = create_dimension(wf['QUANTITY_NAME'].unique(), 'id_quantity')\n",
    "df_flow = create_dimension(wf['FLOW'].unique(), 'id_flow')\n",
    "df_year = create_dimension(wf['YEAR'].unique(), 'id_year')\n"
   ]
  }
 ],
 "metadata": {
  "kernelspec": {
   "display_name": "Python 3 (ipykernel)",
   "language": "python",
   "name": "python3"
  },
  "language_info": {
   "codemirror_mode": {
    "name": "ipython",
    "version": 3
   },
   "file_extension": ".py",
   "mimetype": "text/x-python",
   "name": "python",
   "nbconvert_exporter": "python",
   "pygments_lexer": "ipython3",
   "version": "3.9.13"
  },
  "vscode": {
   "interpreter": {
    "hash": "76ef66ed4bb586cfd5436adf7d3e1f212dbf162b26a74cae646337cacdb13cae"
   }
  }
 },
 "nbformat": 4,
 "nbformat_minor": 5
}
