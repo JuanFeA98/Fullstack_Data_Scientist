{
 "cells": [
  {
   "cell_type": "markdown",
   "id": "2280c19f-d88d-4631-9144-bb94f0812a21",
   "metadata": {},
   "source": [
    "# Introducción a Python"
   ]
  },
  {
   "cell_type": "code",
   "execution_count": 1,
   "id": "255ac892-bd94-4fc3-8ba4-456fa3f3420e",
   "metadata": {},
   "outputs": [],
   "source": [
    "from datetime import datetime"
   ]
  },
  {
   "cell_type": "code",
   "execution_count": 2,
   "id": "70cfc69e-0d42-4111-81f8-aa90a2e7a36c",
   "metadata": {},
   "outputs": [
    {
     "name": "stdout",
     "output_type": "stream",
     "text": [
      "Hello Python!\n"
     ]
    }
   ],
   "source": [
    "print('Hello Python!')"
   ]
  },
  {
   "cell_type": "code",
   "execution_count": 34,
   "id": "4c412bed-b961-496c-9ba3-56334e582c9f",
   "metadata": {},
   "outputs": [],
   "source": [
    "file = open('text.txt', 'a')\n",
    "# file.read()"
   ]
  },
  {
   "cell_type": "code",
   "execution_count": 35,
   "id": "8ac843b1-4a0e-4906-b809-9fad5a549787",
   "metadata": {},
   "outputs": [
    {
     "data": {
      "text/plain": [
       "11"
      ]
     },
     "execution_count": 35,
     "metadata": {},
     "output_type": "execute_result"
    }
   ],
   "source": [
    "file.write('\\nHolaaaaaaa')"
   ]
  },
  {
   "cell_type": "code",
   "execution_count": 36,
   "id": "414be687-be9d-402f-bd5f-5c83cb9bf8b6",
   "metadata": {},
   "outputs": [],
   "source": [
    "file.close()"
   ]
  },
  {
   "cell_type": "code",
   "execution_count": 20,
   "id": "46d22c66-8ffe-4c35-b986-a70fa271ac1a",
   "metadata": {},
   "outputs": [],
   "source": [
    "with open('new_file.txt', 'a') as f:\n",
    "    f.write(f'\\nNow is {str(datetime.now())[11:]}')"
   ]
  },
  {
   "cell_type": "code",
   "execution_count": 7,
   "id": "c296a248-265b-41de-b84f-64941c52afc6",
   "metadata": {},
   "outputs": [
    {
     "data": {
      "text/plain": [
       "68"
      ]
     },
     "execution_count": 7,
     "metadata": {},
     "output_type": "execute_result"
    }
   ],
   "source": [
    "hora = datetime.now()\n",
    "new_file.write(f'''\n",
    "Hello Python!\n",
    "I am a text file\n",
    "Today is {str(hora)[:10]}\n",
    "Now is {str(hora)[11:19]}\n",
    "''')"
   ]
  },
  {
   "cell_type": "code",
   "execution_count": 8,
   "id": "dd1b80d5-527b-4ac8-aef2-9a989dff59f3",
   "metadata": {},
   "outputs": [],
   "source": [
    "new_file.close()"
   ]
  },
  {
   "cell_type": "code",
   "execution_count": 23,
   "id": "b8ae0608-413e-413a-9080-c266e7699261",
   "metadata": {},
   "outputs": [
    {
     "data": {
      "text/plain": [
       "(5+3j)"
      ]
     },
     "execution_count": 23,
     "metadata": {},
     "output_type": "execute_result"
    }
   ],
   "source": [
    "5+3j"
   ]
  }
 ],
 "metadata": {
  "kernelspec": {
   "display_name": "Python 3 (ipykernel)",
   "language": "python",
   "name": "python3"
  },
  "language_info": {
   "codemirror_mode": {
    "name": "ipython",
    "version": 3
   },
   "file_extension": ".py",
   "mimetype": "text/x-python",
   "name": "python",
   "nbconvert_exporter": "python",
   "pygments_lexer": "ipython3",
   "version": "3.8.12"
  }
 },
 "nbformat": 4,
 "nbformat_minor": 5
}
