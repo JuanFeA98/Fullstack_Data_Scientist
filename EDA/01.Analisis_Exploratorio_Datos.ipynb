{
 "cells": [
  {
   "cell_type": "markdown",
   "id": "ea6b1357-86cf-4d07-94d0-6ebc865a5e4f",
   "metadata": {},
   "source": [
    "# **Análisis Exploratorio de Datos**"
   ]
  },
  {
   "cell_type": "markdown",
   "id": "2cd2bc7d-0d4b-4191-92fb-fec1a90a41a8",
   "metadata": {},
   "source": [
    "## **Librerías**"
   ]
  },
  {
   "cell_type": "code",
   "execution_count": 1,
   "id": "c636bbf9-d084-46ae-86e6-c4492fe44c1b",
   "metadata": {},
   "outputs": [],
   "source": [
    "import pandas as pd\n",
    "import numpy as np\n",
    "import matplotlib.pyplot as plt\n",
    "import seaborn as sns"
   ]
  },
  {
   "cell_type": "code",
   "execution_count": 2,
   "id": "bca4c1a1-1e09-4b98-b7ca-6464ea99de8d",
   "metadata": {},
   "outputs": [],
   "source": [
    "pd.options.display.max_columns = False"
   ]
  },
  {
   "cell_type": "code",
   "execution_count": 3,
   "id": "25029365-d0ea-4f35-9b79-583621d007b8",
   "metadata": {},
   "outputs": [],
   "source": [
    "import palmerpenguins"
   ]
  },
  {
   "cell_type": "code",
   "execution_count": 4,
   "id": "9373609a-eab6-44c7-9337-15cdbddc3210",
   "metadata": {},
   "outputs": [],
   "source": [
    "import sklearn.metrics"
   ]
  },
  {
   "cell_type": "code",
   "execution_count": 5,
   "id": "34aae530-cea8-40df-9e77-234f566a9634",
   "metadata": {},
   "outputs": [],
   "source": [
    "import scipy.stats\n",
    "\n",
    "import statsmodels.api as sm\n",
    "import statsmodels.formula.api as smf\n",
    "import statsmodels.stats as ss"
   ]
  },
  {
   "cell_type": "code",
   "execution_count": 6,
   "id": "f96813e1-2f30-440b-b0c4-4f521e3fec25",
   "metadata": {},
   "outputs": [],
   "source": [
    "penguin_color = {\n",
    "    'Adelie': '#ff6602ff',\n",
    "    'Gentoo': '#0f7175ff',\n",
    "    'Chinstrap': '#c65dc9ff'\n",
    "}"
   ]
  },
  {
   "cell_type": "markdown",
   "id": "1a4268cb-92ce-4b6a-8246-933adce71b33",
   "metadata": {},
   "source": [
    "## **Datos**"
   ]
  },
  {
   "cell_type": "markdown",
   "id": "788cba9a-867c-4c42-9341-c09fe3f699f9",
   "metadata": {},
   "source": [
    "### **1. Colecta y validación de datos**"
   ]
  },
  {
   "cell_type": "code",
   "execution_count": 7,
   "id": "b062df34-fd7a-44a0-a1d2-0c8470b397d4",
   "metadata": {},
   "outputs": [
    {
     "data": {
      "text/html": [
       "<div>\n",
       "<style scoped>\n",
       "    .dataframe tbody tr th:only-of-type {\n",
       "        vertical-align: middle;\n",
       "    }\n",
       "\n",
       "    .dataframe tbody tr th {\n",
       "        vertical-align: top;\n",
       "    }\n",
       "\n",
       "    .dataframe thead th {\n",
       "        text-align: right;\n",
       "    }\n",
       "</style>\n",
       "<table border=\"1\" class=\"dataframe\">\n",
       "  <thead>\n",
       "    <tr style=\"text-align: right;\">\n",
       "      <th></th>\n",
       "      <th>species</th>\n",
       "      <th>island</th>\n",
       "      <th>bill_length_mm</th>\n",
       "      <th>bill_depth_mm</th>\n",
       "      <th>flipper_length_mm</th>\n",
       "      <th>body_mass_g</th>\n",
       "      <th>sex</th>\n",
       "    </tr>\n",
       "  </thead>\n",
       "  <tbody>\n",
       "    <tr>\n",
       "      <th>0</th>\n",
       "      <td>Adelie</td>\n",
       "      <td>Torgersen</td>\n",
       "      <td>39.1</td>\n",
       "      <td>18.7</td>\n",
       "      <td>181.0</td>\n",
       "      <td>3750.0</td>\n",
       "      <td>Male</td>\n",
       "    </tr>\n",
       "    <tr>\n",
       "      <th>1</th>\n",
       "      <td>Adelie</td>\n",
       "      <td>Torgersen</td>\n",
       "      <td>39.5</td>\n",
       "      <td>17.4</td>\n",
       "      <td>186.0</td>\n",
       "      <td>3800.0</td>\n",
       "      <td>Female</td>\n",
       "    </tr>\n",
       "    <tr>\n",
       "      <th>2</th>\n",
       "      <td>Adelie</td>\n",
       "      <td>Torgersen</td>\n",
       "      <td>40.3</td>\n",
       "      <td>18.0</td>\n",
       "      <td>195.0</td>\n",
       "      <td>3250.0</td>\n",
       "      <td>Female</td>\n",
       "    </tr>\n",
       "    <tr>\n",
       "      <th>3</th>\n",
       "      <td>Adelie</td>\n",
       "      <td>Torgersen</td>\n",
       "      <td>NaN</td>\n",
       "      <td>NaN</td>\n",
       "      <td>NaN</td>\n",
       "      <td>NaN</td>\n",
       "      <td>NaN</td>\n",
       "    </tr>\n",
       "    <tr>\n",
       "      <th>4</th>\n",
       "      <td>Adelie</td>\n",
       "      <td>Torgersen</td>\n",
       "      <td>36.7</td>\n",
       "      <td>19.3</td>\n",
       "      <td>193.0</td>\n",
       "      <td>3450.0</td>\n",
       "      <td>Female</td>\n",
       "    </tr>\n",
       "    <tr>\n",
       "      <th>...</th>\n",
       "      <td>...</td>\n",
       "      <td>...</td>\n",
       "      <td>...</td>\n",
       "      <td>...</td>\n",
       "      <td>...</td>\n",
       "      <td>...</td>\n",
       "      <td>...</td>\n",
       "    </tr>\n",
       "    <tr>\n",
       "      <th>339</th>\n",
       "      <td>Gentoo</td>\n",
       "      <td>Biscoe</td>\n",
       "      <td>NaN</td>\n",
       "      <td>NaN</td>\n",
       "      <td>NaN</td>\n",
       "      <td>NaN</td>\n",
       "      <td>NaN</td>\n",
       "    </tr>\n",
       "    <tr>\n",
       "      <th>340</th>\n",
       "      <td>Gentoo</td>\n",
       "      <td>Biscoe</td>\n",
       "      <td>46.8</td>\n",
       "      <td>14.3</td>\n",
       "      <td>215.0</td>\n",
       "      <td>4850.0</td>\n",
       "      <td>Female</td>\n",
       "    </tr>\n",
       "    <tr>\n",
       "      <th>341</th>\n",
       "      <td>Gentoo</td>\n",
       "      <td>Biscoe</td>\n",
       "      <td>50.4</td>\n",
       "      <td>15.7</td>\n",
       "      <td>222.0</td>\n",
       "      <td>5750.0</td>\n",
       "      <td>Male</td>\n",
       "    </tr>\n",
       "    <tr>\n",
       "      <th>342</th>\n",
       "      <td>Gentoo</td>\n",
       "      <td>Biscoe</td>\n",
       "      <td>45.2</td>\n",
       "      <td>14.8</td>\n",
       "      <td>212.0</td>\n",
       "      <td>5200.0</td>\n",
       "      <td>Female</td>\n",
       "    </tr>\n",
       "    <tr>\n",
       "      <th>343</th>\n",
       "      <td>Gentoo</td>\n",
       "      <td>Biscoe</td>\n",
       "      <td>49.9</td>\n",
       "      <td>16.1</td>\n",
       "      <td>213.0</td>\n",
       "      <td>5400.0</td>\n",
       "      <td>Male</td>\n",
       "    </tr>\n",
       "  </tbody>\n",
       "</table>\n",
       "<p>344 rows × 7 columns</p>\n",
       "</div>"
      ],
      "text/plain": [
       "    species     island  bill_length_mm  bill_depth_mm  flipper_length_mm  body_mass_g     sex\n",
       "0    Adelie  Torgersen            39.1           18.7              181.0       3750.0    Male\n",
       "1    Adelie  Torgersen            39.5           17.4              186.0       3800.0  Female\n",
       "2    Adelie  Torgersen            40.3           18.0              195.0       3250.0  Female\n",
       "3    Adelie  Torgersen             NaN            NaN                NaN          NaN     NaN\n",
       "4    Adelie  Torgersen            36.7           19.3              193.0       3450.0  Female\n",
       "..      ...        ...             ...            ...                ...          ...     ...\n",
       "339  Gentoo     Biscoe             NaN            NaN                NaN          NaN     NaN\n",
       "340  Gentoo     Biscoe            46.8           14.3              215.0       4850.0  Female\n",
       "341  Gentoo     Biscoe            50.4           15.7              222.0       5750.0    Male\n",
       "342  Gentoo     Biscoe            45.2           14.8              212.0       5200.0  Female\n",
       "343  Gentoo     Biscoe            49.9           16.1              213.0       5400.0    Male\n",
       "\n",
       "[344 rows x 7 columns]"
      ]
     },
     "execution_count": 7,
     "metadata": {},
     "output_type": "execute_result"
    }
   ],
   "source": [
    "penguins_data = sns.load_dataset('penguins')\n",
    "penguins_data"
   ]
  },
  {
   "cell_type": "code",
   "execution_count": 8,
   "id": "5770e86d-656d-432b-b4f9-3450f35b1106",
   "metadata": {},
   "outputs": [
    {
     "name": "stdout",
     "output_type": "stream",
     "text": [
      "<class 'pandas.core.frame.DataFrame'>\n",
      "RangeIndex: 344 entries, 0 to 343\n",
      "Data columns (total 7 columns):\n",
      " #   Column             Non-Null Count  Dtype  \n",
      "---  ------             --------------  -----  \n",
      " 0   species            344 non-null    object \n",
      " 1   island             344 non-null    object \n",
      " 2   bill_length_mm     342 non-null    float64\n",
      " 3   bill_depth_mm      342 non-null    float64\n",
      " 4   flipper_length_mm  342 non-null    float64\n",
      " 5   body_mass_g        342 non-null    float64\n",
      " 6   sex                333 non-null    object \n",
      "dtypes: float64(4), object(3)\n",
      "memory usage: 18.9+ KB\n"
     ]
    }
   ],
   "source": [
    "# ¿Qué tipo de datos son las variables del conjunto?\n",
    "penguins_data.info()"
   ]
  },
  {
   "cell_type": "code",
   "execution_count": 9,
   "id": "f94e15b5-4600-4122-b970-8afb99bd7eac",
   "metadata": {},
   "outputs": [
    {
     "data": {
      "image/png": "[encoded data removed]",
      "text/plain": [
       "<Figure size 781.25x360 with 1 Axes>"
      ]
     },
     "metadata": {
      "needs_background": "light"
     },
     "output_type": "display_data"
    }
   ],
   "source": [
    "# Proporción de valores nulos para cada variable.\n",
    "\n",
    "(penguins_data\n",
    "    .isnull()\n",
    "    .melt()\n",
    "    .pipe(\n",
    "        lambda df:(\n",
    "            sns.displot(\n",
    "                data = df,\n",
    "                y = 'variable',\n",
    "                hue = 'value',\n",
    "                multiple = 'fill',\n",
    "                aspect = 2\n",
    "            )\n",
    "        )\n",
    "    ))\n",
    "\n",
    "plt.title('Proporción de valores nulos para cada variable.')\n",
    "\n",
    "plt.show()"
   ]
  },
  {
   "cell_type": "code",
   "execution_count": 10,
   "id": "325b2ea7-bd3a-4133-b83c-dc39e78a209a",
   "metadata": {},
   "outputs": [],
   "source": [
    "# Eliminar valores nulos\n",
    "\n",
    "penguins_data.dropna(inplace=True)\n",
    "penguins_data.reset_index(drop=True, inplace=True)"
   ]
  },
  {
   "cell_type": "code",
   "execution_count": 11,
   "id": "5da3eb41-1c27-458c-a3a6-d5e060f09b4d",
   "metadata": {},
   "outputs": [
    {
     "data": {
      "text/html": [
       "<div>\n",
       "<style scoped>\n",
       "    .dataframe tbody tr th:only-of-type {\n",
       "        vertical-align: middle;\n",
       "    }\n",
       "\n",
       "    .dataframe tbody tr th {\n",
       "        vertical-align: top;\n",
       "    }\n",
       "\n",
       "    .dataframe thead th {\n",
       "        text-align: right;\n",
       "    }\n",
       "</style>\n",
       "<table border=\"1\" class=\"dataframe\">\n",
       "  <thead>\n",
       "    <tr style=\"text-align: right;\">\n",
       "      <th></th>\n",
       "      <th>species</th>\n",
       "      <th>island</th>\n",
       "      <th>bill_length_mm</th>\n",
       "      <th>bill_depth_mm</th>\n",
       "      <th>flipper_length_mm</th>\n",
       "      <th>body_mass_g</th>\n",
       "      <th>sex</th>\n",
       "    </tr>\n",
       "  </thead>\n",
       "  <tbody>\n",
       "    <tr>\n",
       "      <th>0</th>\n",
       "      <td>Adelie</td>\n",
       "      <td>Torgersen</td>\n",
       "      <td>39.1</td>\n",
       "      <td>18.7</td>\n",
       "      <td>181.0</td>\n",
       "      <td>3750.0</td>\n",
       "      <td>Male</td>\n",
       "    </tr>\n",
       "    <tr>\n",
       "      <th>1</th>\n",
       "      <td>Adelie</td>\n",
       "      <td>Torgersen</td>\n",
       "      <td>39.5</td>\n",
       "      <td>17.4</td>\n",
       "      <td>186.0</td>\n",
       "      <td>3800.0</td>\n",
       "      <td>Female</td>\n",
       "    </tr>\n",
       "    <tr>\n",
       "      <th>2</th>\n",
       "      <td>Adelie</td>\n",
       "      <td>Torgersen</td>\n",
       "      <td>40.3</td>\n",
       "      <td>18.0</td>\n",
       "      <td>195.0</td>\n",
       "      <td>3250.0</td>\n",
       "      <td>Female</td>\n",
       "    </tr>\n",
       "    <tr>\n",
       "      <th>3</th>\n",
       "      <td>Adelie</td>\n",
       "      <td>Torgersen</td>\n",
       "      <td>36.7</td>\n",
       "      <td>19.3</td>\n",
       "      <td>193.0</td>\n",
       "      <td>3450.0</td>\n",
       "      <td>Female</td>\n",
       "    </tr>\n",
       "    <tr>\n",
       "      <th>4</th>\n",
       "      <td>Adelie</td>\n",
       "      <td>Torgersen</td>\n",
       "      <td>39.3</td>\n",
       "      <td>20.6</td>\n",
       "      <td>190.0</td>\n",
       "      <td>3650.0</td>\n",
       "      <td>Male</td>\n",
       "    </tr>\n",
       "    <tr>\n",
       "      <th>...</th>\n",
       "      <td>...</td>\n",
       "      <td>...</td>\n",
       "      <td>...</td>\n",
       "      <td>...</td>\n",
       "      <td>...</td>\n",
       "      <td>...</td>\n",
       "      <td>...</td>\n",
       "    </tr>\n",
       "    <tr>\n",
       "      <th>328</th>\n",
       "      <td>Gentoo</td>\n",
       "      <td>Biscoe</td>\n",
       "      <td>47.2</td>\n",
       "      <td>13.7</td>\n",
       "      <td>214.0</td>\n",
       "      <td>4925.0</td>\n",
       "      <td>Female</td>\n",
       "    </tr>\n",
       "    <tr>\n",
       "      <th>329</th>\n",
       "      <td>Gentoo</td>\n",
       "      <td>Biscoe</td>\n",
       "      <td>46.8</td>\n",
       "      <td>14.3</td>\n",
       "      <td>215.0</td>\n",
       "      <td>4850.0</td>\n",
       "      <td>Female</td>\n",
       "    </tr>\n",
       "    <tr>\n",
       "      <th>330</th>\n",
       "      <td>Gentoo</td>\n",
       "      <td>Biscoe</td>\n",
       "      <td>50.4</td>\n",
       "      <td>15.7</td>\n",
       "      <td>222.0</td>\n",
       "      <td>5750.0</td>\n",
       "      <td>Male</td>\n",
       "    </tr>\n",
       "    <tr>\n",
       "      <th>331</th>\n",
       "      <td>Gentoo</td>\n",
       "      <td>Biscoe</td>\n",
       "      <td>45.2</td>\n",
       "      <td>14.8</td>\n",
       "      <td>212.0</td>\n",
       "      <td>5200.0</td>\n",
       "      <td>Female</td>\n",
       "    </tr>\n",
       "    <tr>\n",
       "      <th>332</th>\n",
       "      <td>Gentoo</td>\n",
       "      <td>Biscoe</td>\n",
       "      <td>49.9</td>\n",
       "      <td>16.1</td>\n",
       "      <td>213.0</td>\n",
       "      <td>5400.0</td>\n",
       "      <td>Male</td>\n",
       "    </tr>\n",
       "  </tbody>\n",
       "</table>\n",
       "<p>333 rows × 7 columns</p>\n",
       "</div>"
      ],
      "text/plain": [
       "    species     island  bill_length_mm  bill_depth_mm  flipper_length_mm  body_mass_g     sex\n",
       "0    Adelie  Torgersen            39.1           18.7              181.0       3750.0    Male\n",
       "1    Adelie  Torgersen            39.5           17.4              186.0       3800.0  Female\n",
       "2    Adelie  Torgersen            40.3           18.0              195.0       3250.0  Female\n",
       "3    Adelie  Torgersen            36.7           19.3              193.0       3450.0  Female\n",
       "4    Adelie  Torgersen            39.3           20.6              190.0       3650.0    Male\n",
       "..      ...        ...             ...            ...                ...          ...     ...\n",
       "328  Gentoo     Biscoe            47.2           13.7              214.0       4925.0  Female\n",
       "329  Gentoo     Biscoe            46.8           14.3              215.0       4850.0  Female\n",
       "330  Gentoo     Biscoe            50.4           15.7              222.0       5750.0    Male\n",
       "331  Gentoo     Biscoe            45.2           14.8              212.0       5200.0  Female\n",
       "332  Gentoo     Biscoe            49.9           16.1              213.0       5400.0    Male\n",
       "\n",
       "[333 rows x 7 columns]"
      ]
     },
     "execution_count": 11,
     "metadata": {},
     "output_type": "execute_result"
    }
   ],
   "source": [
    "penguins_data"
   ]
  },
  {
   "cell_type": "markdown",
   "id": "2b543586-c0da-4d99-8a7e-769bf5a02c7c",
   "metadata": {},
   "source": [
    "## **Análisis**"
   ]
  },
  {
   "cell_type": "markdown",
   "id": "8d25712c-ba59-4ec4-ad83-6741e23419fa",
   "metadata": {},
   "source": [
    "### **1. Análisis Univariado**"
   ]
  },
  {
   "cell_type": "code",
   "execution_count": 14,
   "id": "d5eccc4b-d87a-4c1f-a698-e7f8f657bd69",
   "metadata": {},
   "outputs": [
    {
     "data": {
      "text/html": [
       "<div>\n",
       "<style scoped>\n",
       "    .dataframe tbody tr th:only-of-type {\n",
       "        vertical-align: middle;\n",
       "    }\n",
       "\n",
       "    .dataframe tbody tr th {\n",
       "        vertical-align: top;\n",
       "    }\n",
       "\n",
       "    .dataframe thead th {\n",
       "        text-align: right;\n",
       "    }\n",
       "</style>\n",
       "<table border=\"1\" class=\"dataframe\">\n",
       "  <thead>\n",
       "    <tr style=\"text-align: right;\">\n",
       "      <th></th>\n",
       "      <th>bill_length_mm</th>\n",
       "      <th>bill_depth_mm</th>\n",
       "      <th>flipper_length_mm</th>\n",
       "      <th>body_mass_g</th>\n",
       "    </tr>\n",
       "  </thead>\n",
       "  <tbody>\n",
       "    <tr>\n",
       "      <th>count</th>\n",
       "      <td>333.000000</td>\n",
       "      <td>333.000000</td>\n",
       "      <td>333.000000</td>\n",
       "      <td>333.000000</td>\n",
       "    </tr>\n",
       "    <tr>\n",
       "      <th>mean</th>\n",
       "      <td>43.992793</td>\n",
       "      <td>17.164865</td>\n",
       "      <td>200.966967</td>\n",
       "      <td>4207.057057</td>\n",
       "    </tr>\n",
       "    <tr>\n",
       "      <th>std</th>\n",
       "      <td>5.468668</td>\n",
       "      <td>1.969235</td>\n",
       "      <td>14.015765</td>\n",
       "      <td>805.215802</td>\n",
       "    </tr>\n",
       "    <tr>\n",
       "      <th>min</th>\n",
       "      <td>32.100000</td>\n",
       "      <td>13.100000</td>\n",
       "      <td>172.000000</td>\n",
       "      <td>2700.000000</td>\n",
       "    </tr>\n",
       "    <tr>\n",
       "      <th>25%</th>\n",
       "      <td>39.500000</td>\n",
       "      <td>15.600000</td>\n",
       "      <td>190.000000</td>\n",
       "      <td>3550.000000</td>\n",
       "    </tr>\n",
       "    <tr>\n",
       "      <th>50%</th>\n",
       "      <td>44.500000</td>\n",
       "      <td>17.300000</td>\n",
       "      <td>197.000000</td>\n",
       "      <td>4050.000000</td>\n",
       "    </tr>\n",
       "    <tr>\n",
       "      <th>75%</th>\n",
       "      <td>48.600000</td>\n",
       "      <td>18.700000</td>\n",
       "      <td>213.000000</td>\n",
       "      <td>4775.000000</td>\n",
       "    </tr>\n",
       "    <tr>\n",
       "      <th>max</th>\n",
       "      <td>59.600000</td>\n",
       "      <td>21.500000</td>\n",
       "      <td>231.000000</td>\n",
       "      <td>6300.000000</td>\n",
       "    </tr>\n",
       "  </tbody>\n",
       "</table>\n",
       "</div>"
      ],
      "text/plain": [
       "       bill_length_mm  bill_depth_mm  flipper_length_mm  body_mass_g\n",
       "count      333.000000     333.000000         333.000000   333.000000\n",
       "mean        43.992793      17.164865         200.966967  4207.057057\n",
       "std          5.468668       1.969235          14.015765   805.215802\n",
       "min         32.100000      13.100000         172.000000  2700.000000\n",
       "25%         39.500000      15.600000         190.000000  3550.000000\n",
       "50%         44.500000      17.300000         197.000000  4050.000000\n",
       "75%         48.600000      18.700000         213.000000  4775.000000\n",
       "max         59.600000      21.500000         231.000000  6300.000000"
      ]
     },
     "execution_count": 14,
     "metadata": {},
     "output_type": "execute_result"
    }
   ],
   "source": [
    "# Estadísticos que describen al conjunto de datos \n",
    "penguins_data.describe()"
   ]
  },
  {
   "cell_type": "markdown",
   "id": "13afcacd-8179-4b54-b9d8-006202fea420",
   "metadata": {},
   "source": [
    "#### **1.1 Conteo de Valores**"
   ]
  },
  {
   "cell_type": "markdown",
   "id": "9b927eb6-4be5-4011-b209-683f7e8c5c33",
   "metadata": {},
   "source": [
    "**Con Pandas**"
   ]
  },
  {
   "cell_type": "code",
   "execution_count": 15,
   "id": "5ced29db-eee0-4f99-88b2-e670696e34c0",
   "metadata": {},
   "outputs": [
    {
     "data": {
      "image/png": "[encoded data removed]",
      "text/plain": [
       "<Figure size 640x480 with 1 Axes>"
      ]
     },
     "metadata": {},
     "output_type": "display_data"
    }
   ],
   "source": [
    "penguins_data['species'].value_counts().plot(kind='bar')\n",
    "plt.show()"
   ]
  },
  {
   "cell_type": "markdown",
   "id": "7725db99-60d4-477f-b1de-f6fb07628137",
   "metadata": {},
   "source": [
    "**Con Seaborn**"
   ]
  },
  {
   "cell_type": "code",
   "execution_count": 17,
   "id": "867680cf-a522-4438-92d1-f741373d96e6",
   "metadata": {},
   "outputs": [
    {
     "data": {
      "text/html": [
       "<div>\n",
       "<style scoped>\n",
       "    .dataframe tbody tr th:only-of-type {\n",
       "        vertical-align: middle;\n",
       "    }\n",
       "\n",
       "    .dataframe tbody tr th {\n",
       "        vertical-align: top;\n",
       "    }\n",
       "\n",
       "    .dataframe thead th {\n",
       "        text-align: right;\n",
       "    }\n",
       "</style>\n",
       "<table border=\"1\" class=\"dataframe\">\n",
       "  <thead>\n",
       "    <tr style=\"text-align: right;\">\n",
       "      <th></th>\n",
       "      <th>species</th>\n",
       "      <th>penguins</th>\n",
       "    </tr>\n",
       "  </thead>\n",
       "  <tbody>\n",
       "    <tr>\n",
       "      <th>0</th>\n",
       "      <td>Adelie</td>\n",
       "      <td>146</td>\n",
       "    </tr>\n",
       "    <tr>\n",
       "      <th>1</th>\n",
       "      <td>Gentoo</td>\n",
       "      <td>119</td>\n",
       "    </tr>\n",
       "    <tr>\n",
       "      <th>2</th>\n",
       "      <td>Chinstrap</td>\n",
       "      <td>68</td>\n",
       "    </tr>\n",
       "  </tbody>\n",
       "</table>\n",
       "</div>"
      ],
      "text/plain": [
       "     species  penguins\n",
       "0     Adelie       146\n",
       "1     Gentoo       119\n",
       "2  Chinstrap        68"
      ]
     },
     "execution_count": 17,
     "metadata": {},
     "output_type": "execute_result"
    }
   ],
   "source": [
    "penguins_data_species = pd.DataFrame(penguins_data['species'].value_counts()).reset_index()\n",
    "penguins_data_species.columns = ['species', 'penguins']\n",
    "penguins_data_species"
   ]
  },
  {
   "cell_type": "code",
   "execution_count": 18,
   "id": "b1704225-4b43-42d4-a511-505d00e83782",
   "metadata": {},
   "outputs": [
    {
     "data": {
      "image/png": "[encoded data removed]",
      "text/plain": [
       "<Figure size 1400x500 with 1 Axes>"
      ]
     },
     "metadata": {},
     "output_type": "display_data"
    }
   ],
   "source": [
    "fig, ax = plt.subplots(figsize=(14, 5))\n",
    "\n",
    "plt.title(\n",
    "    'Pinguinos por especie', \n",
    "    fontweight=1000, \n",
    "    size=16, \n",
    "    color='white'\n",
    ")\n",
    "\n",
    "# plt.grid(visible=True, linewidth=0.1, color='white')\n",
    "fig.patch.set_facecolor('#21252b') \n",
    "ax.set_facecolor('#282c34') \n",
    "\n",
    "sns.barplot(\n",
    "    data=penguins_data_species, \n",
    "    x='species', \n",
    "    y='penguins',\n",
    "    palette =penguin_color\n",
    ")\n",
    "\n",
    "plt.xlabel('Especies', size=12, weight=700, color='white')\n",
    "plt.xticks(color='white', size=12)\n",
    "\n",
    "plt.ylabel('Cantidad de Pinguinos', size=12, weight=700, color='white')\n",
    "plt.yticks(color='white', size=12)\n",
    "\n",
    "plt.show()"
   ]
  },
  {
   "cell_type": "markdown",
   "id": "8c143847-4c4e-46a4-b9c8-5dfe6765c711",
   "metadata": {},
   "source": [
    "#### **1.2 Graficando las proporciones**"
   ]
  },
  {
   "cell_type": "code",
   "execution_count": 81,
   "id": "9eaae923-753e-4220-ac65-f87591473b21",
   "metadata": {},
   "outputs": [
    {
     "data": {
      "text/html": [
       "<div>\n",
       "<style scoped>\n",
       "    .dataframe tbody tr th:only-of-type {\n",
       "        vertical-align: middle;\n",
       "    }\n",
       "\n",
       "    .dataframe tbody tr th {\n",
       "        vertical-align: top;\n",
       "    }\n",
       "\n",
       "    .dataframe thead th {\n",
       "        text-align: right;\n",
       "    }\n",
       "</style>\n",
       "<table border=\"1\" class=\"dataframe\">\n",
       "  <thead>\n",
       "    <tr style=\"text-align: right;\">\n",
       "      <th></th>\n",
       "      <th>Adelie</th>\n",
       "      <th>Chinstrap</th>\n",
       "      <th>Gentoo</th>\n",
       "    </tr>\n",
       "    <tr>\n",
       "      <th>island</th>\n",
       "      <th></th>\n",
       "      <th></th>\n",
       "      <th></th>\n",
       "    </tr>\n",
       "  </thead>\n",
       "  <tbody>\n",
       "    <tr>\n",
       "      <th>Biscoe</th>\n",
       "      <td>44</td>\n",
       "      <td>0</td>\n",
       "      <td>119</td>\n",
       "    </tr>\n",
       "    <tr>\n",
       "      <th>Dream</th>\n",
       "      <td>55</td>\n",
       "      <td>68</td>\n",
       "      <td>0</td>\n",
       "    </tr>\n",
       "    <tr>\n",
       "      <th>Torgersen</th>\n",
       "      <td>47</td>\n",
       "      <td>0</td>\n",
       "      <td>0</td>\n",
       "    </tr>\n",
       "  </tbody>\n",
       "</table>\n",
       "</div>"
      ],
      "text/plain": [
       "           Adelie  Chinstrap  Gentoo\n",
       "island                              \n",
       "Biscoe         44          0     119\n",
       "Dream          55         68       0\n",
       "Torgersen      47          0       0"
      ]
     },
     "execution_count": 81,
     "metadata": {},
     "output_type": "execute_result"
    }
   ],
   "source": [
    "penguins_x_island = pd.crosstab(index=penguins_data['island'], columns=penguins_data['species']).reset_index()\n",
    "penguins_x_island.columns = ['island', 'Adelie', 'Chinstrap', 'Gentoo']\n",
    "penguins_x_island.set_index('island', inplace=True)\n",
    "penguins_x_island"
   ]
  },
  {
   "cell_type": "code",
   "execution_count": 96,
   "id": "53ad8cae-8992-40ef-82a0-786886cff4dd",
   "metadata": {},
   "outputs": [],
   "source": [
    "r = [i for i in range(len(penguins_x_island))]\n",
    "\n",
    "totals = [i+j+k for i,j,k in zip(penguins_x_island['Adelie'], penguins_x_island['Chinstrap'], penguins_x_island['Gentoo'])]\n",
    "adelie_Bars = [i / j * 100 for i,j in zip(penguins_x_island['Adelie'], totals)]\n",
    "chinstrap_Bars = [i / j * 100 for i,j in zip(penguins_x_island['Chinstrap'], totals)]\n",
    "gentoo_Bars = [i / j * 100 for i,j in zip(penguins_x_island['Gentoo'], totals)]"
   ]
  },
  {
   "cell_type": "code",
   "execution_count": 200,
   "id": "26da0313-9658-482e-a128-771b500e2e3b",
   "metadata": {},
   "outputs": [
    {
     "data": {
      "image/png": "[encoded data removed]",
      "text/plain": [
       "<Figure size 700x400 with 1 Axes>"
      ]
     },
     "metadata": {},
     "output_type": "display_data"
    }
   ],
   "source": [
    "# plot\n",
    "barWidth = 0.5\n",
    "names = list(penguins_x_island.index)\n",
    "y_offset = -15\n",
    "\n",
    "# fig, ax = plt.subplots()\n",
    "fig, ax = plt.subplots(figsize=(7, 4))\n",
    "\n",
    "plt.title(\n",
    "    'Especie de pinguino por isla', \n",
    "    fontweight=1000, \n",
    "    size=12, \n",
    "    color='white'\n",
    ")\n",
    "\n",
    "fig.patch.set_facecolor('#21252b') \n",
    "ax.set_facecolor('#282c34') \n",
    "\n",
    "# Create Bars\n",
    "plt.bar(r, adelie_Bars, color='#1d3461', width=barWidth, label='Adelie')\n",
    "plt.bar(r, chinstrap_Bars, bottom=adelie_Bars, color='#376996', width=barWidth, label='Chinstrap')\n",
    "plt.bar(r, gentoo_Bars, bottom=[i+j for i,j in zip(adelie_Bars, chinstrap_Bars)], color='#829cbc', width=barWidth, label='Gentoo')\n",
    " \n",
    "# Custom axis\n",
    "plt.xticks(r, names, color='white', size=10)\n",
    "plt.xlabel(\"Isla\", fontweight=1000,color='white')\n",
    " \n",
    "plt.yticks(color='white', size=10)\n",
    "    \n",
    "# Add labels\n",
    "for bar in ax.patches:\n",
    "    if bar.get_height() != 0:\n",
    "        ax.text(\n",
    "          bar.get_x() + bar.get_width() / 2,\n",
    "          bar.get_height() + bar.get_y() + y_offset,\n",
    "          f'{round(bar.get_height())}',\n",
    "          ha='center',\n",
    "          color='black',\n",
    "          size=10\n",
    "      )    \n",
    "        \n",
    "plt.legend(loc='lower right', title='Especies', bbox_to_anchor=(1.25, 0.7), borderaxespad=0)\n",
    "\n",
    "# Show graphic\n",
    "plt.show()"
   ]
  }
 ],
 "metadata": {
  "kernelspec": {
   "display_name": "Python 3 (ipykernel)",
   "language": "python",
   "name": "python3"
  },
  "language_info": {
   "codemirror_mode": {
    "name": "ipython",
    "version": 3
   },
   "file_extension": ".py",
   "mimetype": "text/x-python",
   "name": "python",
   "nbconvert_exporter": "python",
   "pygments_lexer": "ipython3",
   "version": "3.10.4"
  }
 },
 "nbformat": 4,
 "nbformat_minor": 5
}
