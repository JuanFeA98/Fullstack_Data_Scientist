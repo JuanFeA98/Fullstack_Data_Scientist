{
 "cells": [
  {
   "cell_type": "markdown",
   "id": "ea6b1357-86cf-4d07-94d0-6ebc865a5e4f",
   "metadata": {},
   "source": [
    "# **Análisis Exploratorio de Datos**"
   ]
  },
  {
   "cell_type": "markdown",
   "id": "2cd2bc7d-0d4b-4191-92fb-fec1a90a41a8",
   "metadata": {},
   "source": [
    "## **Librerías**"
   ]
  },
  {
   "cell_type": "code",
   "execution_count": 1,
   "id": "c636bbf9-d084-46ae-86e6-c4492fe44c1b",
   "metadata": {},
   "outputs": [],
   "source": [
    "import pandas as pd\n",
    "import numpy as np\n",
    "import matplotlib.pyplot as plt\n",
    "import seaborn as sns"
   ]
  },
  {
   "cell_type": "code",
   "execution_count": 2,
   "id": "bca4c1a1-1e09-4b98-b7ca-6464ea99de8d",
   "metadata": {},
   "outputs": [],
   "source": [
    "pd.options.display.max_columns = False"
   ]
  },
  {
   "cell_type": "code",
   "execution_count": 3,
   "id": "25029365-d0ea-4f35-9b79-583621d007b8",
   "metadata": {},
   "outputs": [],
   "source": [
    "import palmerpenguins"
   ]
  },
  {
   "cell_type": "code",
   "execution_count": 4,
   "id": "9373609a-eab6-44c7-9337-15cdbddc3210",
   "metadata": {},
   "outputs": [],
   "source": [
    "import sklearn.metrics"
   ]
  },
  {
   "cell_type": "code",
   "execution_count": 5,
   "id": "34aae530-cea8-40df-9e77-234f566a9634",
   "metadata": {},
   "outputs": [],
   "source": [
    "import scipy.stats\n",
    "\n",
    "import statsmodels.api as sm\n",
    "import statsmodels.formula.api as smf\n",
    "import statsmodels.stats as ss"
   ]
  },
  {
   "cell_type": "markdown",
   "id": "1a4268cb-92ce-4b6a-8246-933adce71b33",
   "metadata": {},
   "source": [
    "## **Datos**"
   ]
  },
  {
   "cell_type": "code",
   "execution_count": 6,
   "id": "f96813e1-2f30-440b-b0c4-4f521e3fec25",
   "metadata": {},
   "outputs": [],
   "source": [
    "penguin_color = {\n",
    "    'Adelie': '#ff6602ff',\n",
    "    'Gentoo': '#0f7175ff',\n",
    "    'Chinstrap': '#c65dc9ff'\n",
    "}"
   ]
  },
  {
   "cell_type": "code",
   "execution_count": null,
   "id": "670b1462-f183-42e4-85ee-46b1926bc514",
   "metadata": {},
   "outputs": [],
   "source": []
  },
  {
   "cell_type": "code",
   "execution_count": null,
   "id": "b062df34-fd7a-44a0-a1d2-0c8470b397d4",
   "metadata": {},
   "outputs": [],
   "source": []
  },
  {
   "cell_type": "code",
   "execution_count": null,
   "id": "ef273141-5b35-4519-9317-4b4e56288dc0",
   "metadata": {},
   "outputs": [],
   "source": []
  },
  {
   "cell_type": "code",
   "execution_count": null,
   "id": "26565a15-36d1-4a57-ad78-3dd37e1bc356",
   "metadata": {},
   "outputs": [],
   "source": []
  },
  {
   "cell_type": "code",
   "execution_count": null,
   "id": "5770e86d-656d-432b-b4f9-3450f35b1106",
   "metadata": {},
   "outputs": [],
   "source": []
  },
  {
   "cell_type": "code",
   "execution_count": null,
   "id": "bc39bec7-10e6-4038-981d-aa1f5ae4598b",
   "metadata": {},
   "outputs": [],
   "source": []
  },
  {
   "cell_type": "code",
   "execution_count": null,
   "id": "2d1d7370-e52a-4401-872b-c76adb1b7fe1",
   "metadata": {},
   "outputs": [],
   "source": []
  }
 ],
 "metadata": {
  "kernelspec": {
   "display_name": "Python 3 (ipykernel)",
   "language": "python",
   "name": "python3"
  },
  "language_info": {
   "codemirror_mode": {
    "name": "ipython",
    "version": 3
   },
   "file_extension": ".py",
   "mimetype": "text/x-python",
   "name": "python",
   "nbconvert_exporter": "python",
   "pygments_lexer": "ipython3",
   "version": "3.10.4"
  }
 },
 "nbformat": 4,
 "nbformat_minor": 5
}
