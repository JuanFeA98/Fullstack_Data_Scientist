{
 "cells": [
  {
   "cell_type": "markdown",
   "id": "ea6b1357-86cf-4d07-94d0-6ebc865a5e4f",
   "metadata": {},
   "source": [
    "# **Análisis Exploratorio de Datos**"
   ]
  },
  {
   "cell_type": "markdown",
   "id": "2cd2bc7d-0d4b-4191-92fb-fec1a90a41a8",
   "metadata": {},
   "source": [
    "## **Librerías**"
   ]
  },
  {
   "cell_type": "code",
   "execution_count": 1,
   "id": "c636bbf9-d084-46ae-86e6-c4492fe44c1b",
   "metadata": {},
   "outputs": [],
   "source": [
    "import pandas as pd\n",
    "import numpy as np\n",
    "import matplotlib.pyplot as plt\n",
    "import seaborn as sns"
   ]
  },
  {
   "cell_type": "code",
   "execution_count": 2,
   "id": "bca4c1a1-1e09-4b98-b7ca-6464ea99de8d",
   "metadata": {},
   "outputs": [],
   "source": [
    "pd.options.display.max_columns = False"
   ]
  },
  {
   "cell_type": "code",
   "execution_count": 3,
   "id": "25029365-d0ea-4f35-9b79-583621d007b8",
   "metadata": {},
   "outputs": [],
   "source": [
    "import palmerpenguins"
   ]
  },
  {
   "cell_type": "code",
   "execution_count": 4,
   "id": "9373609a-eab6-44c7-9337-15cdbddc3210",
   "metadata": {},
   "outputs": [],
   "source": [
    "import sklearn.metrics"
   ]
  },
  {
   "cell_type": "code",
   "execution_count": 5,
   "id": "34aae530-cea8-40df-9e77-234f566a9634",
   "metadata": {},
   "outputs": [],
   "source": [
    "import scipy.stats as stats\n",
    "\n",
    "import statsmodels.api as sm\n",
    "import statsmodels.formula.api as smf\n",
    "import statsmodels.stats as ss"
   ]
  },
  {
   "cell_type": "code",
   "execution_count": 6,
   "id": "b0c5a647-a254-4423-87f4-f0e668116b7b",
   "metadata": {},
   "outputs": [],
   "source": [
    "from utils import meta_df, count_valores, graph_bar, proportions_values, graph_proportions"
   ]
  },
  {
   "cell_type": "code",
   "execution_count": 7,
   "id": "6ba3abef-5f24-4c01-b94e-747fbf402a16",
   "metadata": {},
   "outputs": [],
   "source": [
    "penguin_color = {\n",
    "    'Adelie': '#1d3461',\n",
    "    'Gentoo': '#376996',\n",
    "    'Chinstrap': '#829cbc'\n",
    "}"
   ]
  },
  {
   "cell_type": "markdown",
   "id": "1a4268cb-92ce-4b6a-8246-933adce71b33",
   "metadata": {},
   "source": [
    "## **Datos**"
   ]
  },
  {
   "cell_type": "markdown",
   "id": "788cba9a-867c-4c42-9341-c09fe3f699f9",
   "metadata": {},
   "source": [
    "### **1. Colecta y validación de datos**"
   ]
  },
  {
   "cell_type": "code",
   "execution_count": 9,
   "id": "b062df34-fd7a-44a0-a1d2-0c8470b397d4",
   "metadata": {},
   "outputs": [
    {
     "data": {
      "text/html": [
       "<div>\n",
       "<style scoped>\n",
       "    .dataframe tbody tr th:only-of-type {\n",
       "        vertical-align: middle;\n",
       "    }\n",
       "\n",
       "    .dataframe tbody tr th {\n",
       "        vertical-align: top;\n",
       "    }\n",
       "\n",
       "    .dataframe thead th {\n",
       "        text-align: right;\n",
       "    }\n",
       "</style>\n",
       "<table border=\"1\" class=\"dataframe\">\n",
       "  <thead>\n",
       "    <tr style=\"text-align: right;\">\n",
       "      <th></th>\n",
       "      <th>species</th>\n",
       "      <th>island</th>\n",
       "      <th>bill_length_mm</th>\n",
       "      <th>bill_depth_mm</th>\n",
       "      <th>flipper_length_mm</th>\n",
       "      <th>body_mass_g</th>\n",
       "      <th>sex</th>\n",
       "    </tr>\n",
       "  </thead>\n",
       "  <tbody>\n",
       "    <tr>\n",
       "      <th>0</th>\n",
       "      <td>Adelie</td>\n",
       "      <td>Torgersen</td>\n",
       "      <td>39.1</td>\n",
       "      <td>18.7</td>\n",
       "      <td>181.0</td>\n",
       "      <td>3750.0</td>\n",
       "      <td>Male</td>\n",
       "    </tr>\n",
       "    <tr>\n",
       "      <th>1</th>\n",
       "      <td>Adelie</td>\n",
       "      <td>Torgersen</td>\n",
       "      <td>39.5</td>\n",
       "      <td>17.4</td>\n",
       "      <td>186.0</td>\n",
       "      <td>3800.0</td>\n",
       "      <td>Female</td>\n",
       "    </tr>\n",
       "    <tr>\n",
       "      <th>2</th>\n",
       "      <td>Adelie</td>\n",
       "      <td>Torgersen</td>\n",
       "      <td>40.3</td>\n",
       "      <td>18.0</td>\n",
       "      <td>195.0</td>\n",
       "      <td>3250.0</td>\n",
       "      <td>Female</td>\n",
       "    </tr>\n",
       "    <tr>\n",
       "      <th>3</th>\n",
       "      <td>Adelie</td>\n",
       "      <td>Torgersen</td>\n",
       "      <td>NaN</td>\n",
       "      <td>NaN</td>\n",
       "      <td>NaN</td>\n",
       "      <td>NaN</td>\n",
       "      <td>NaN</td>\n",
       "    </tr>\n",
       "    <tr>\n",
       "      <th>4</th>\n",
       "      <td>Adelie</td>\n",
       "      <td>Torgersen</td>\n",
       "      <td>36.7</td>\n",
       "      <td>19.3</td>\n",
       "      <td>193.0</td>\n",
       "      <td>3450.0</td>\n",
       "      <td>Female</td>\n",
       "    </tr>\n",
       "    <tr>\n",
       "      <th>...</th>\n",
       "      <td>...</td>\n",
       "      <td>...</td>\n",
       "      <td>...</td>\n",
       "      <td>...</td>\n",
       "      <td>...</td>\n",
       "      <td>...</td>\n",
       "      <td>...</td>\n",
       "    </tr>\n",
       "    <tr>\n",
       "      <th>339</th>\n",
       "      <td>Gentoo</td>\n",
       "      <td>Biscoe</td>\n",
       "      <td>NaN</td>\n",
       "      <td>NaN</td>\n",
       "      <td>NaN</td>\n",
       "      <td>NaN</td>\n",
       "      <td>NaN</td>\n",
       "    </tr>\n",
       "    <tr>\n",
       "      <th>340</th>\n",
       "      <td>Gentoo</td>\n",
       "      <td>Biscoe</td>\n",
       "      <td>46.8</td>\n",
       "      <td>14.3</td>\n",
       "      <td>215.0</td>\n",
       "      <td>4850.0</td>\n",
       "      <td>Female</td>\n",
       "    </tr>\n",
       "    <tr>\n",
       "      <th>341</th>\n",
       "      <td>Gentoo</td>\n",
       "      <td>Biscoe</td>\n",
       "      <td>50.4</td>\n",
       "      <td>15.7</td>\n",
       "      <td>222.0</td>\n",
       "      <td>5750.0</td>\n",
       "      <td>Male</td>\n",
       "    </tr>\n",
       "    <tr>\n",
       "      <th>342</th>\n",
       "      <td>Gentoo</td>\n",
       "      <td>Biscoe</td>\n",
       "      <td>45.2</td>\n",
       "      <td>14.8</td>\n",
       "      <td>212.0</td>\n",
       "      <td>5200.0</td>\n",
       "      <td>Female</td>\n",
       "    </tr>\n",
       "    <tr>\n",
       "      <th>343</th>\n",
       "      <td>Gentoo</td>\n",
       "      <td>Biscoe</td>\n",
       "      <td>49.9</td>\n",
       "      <td>16.1</td>\n",
       "      <td>213.0</td>\n",
       "      <td>5400.0</td>\n",
       "      <td>Male</td>\n",
       "    </tr>\n",
       "  </tbody>\n",
       "</table>\n",
       "<p>344 rows × 7 columns</p>\n",
       "</div>"
      ],
      "text/plain": [
       "    species     island  bill_length_mm  bill_depth_mm  flipper_length_mm  body_mass_g     sex\n",
       "0    Adelie  Torgersen            39.1           18.7              181.0       3750.0    Male\n",
       "1    Adelie  Torgersen            39.5           17.4              186.0       3800.0  Female\n",
       "2    Adelie  Torgersen            40.3           18.0              195.0       3250.0  Female\n",
       "3    Adelie  Torgersen             NaN            NaN                NaN          NaN     NaN\n",
       "4    Adelie  Torgersen            36.7           19.3              193.0       3450.0  Female\n",
       "..      ...        ...             ...            ...                ...          ...     ...\n",
       "339  Gentoo     Biscoe             NaN            NaN                NaN          NaN     NaN\n",
       "340  Gentoo     Biscoe            46.8           14.3              215.0       4850.0  Female\n",
       "341  Gentoo     Biscoe            50.4           15.7              222.0       5750.0    Male\n",
       "342  Gentoo     Biscoe            45.2           14.8              212.0       5200.0  Female\n",
       "343  Gentoo     Biscoe            49.9           16.1              213.0       5400.0    Male\n",
       "\n",
       "[344 rows x 7 columns]"
      ]
     },
     "execution_count": 9,
     "metadata": {},
     "output_type": "execute_result"
    }
   ],
   "source": [
    "penguins_data = sns.load_dataset('penguins')\n",
    "penguins_data"
   ]
  },
  {
   "cell_type": "code",
   "execution_count": 10,
   "id": "5770e86d-656d-432b-b4f9-3450f35b1106",
   "metadata": {},
   "outputs": [
    {
     "name": "stdout",
     "output_type": "stream",
     "text": [
      "<class 'pandas.core.frame.DataFrame'>\n",
      "RangeIndex: 344 entries, 0 to 343\n",
      "Data columns (total 7 columns):\n",
      " #   Column             Non-Null Count  Dtype  \n",
      "---  ------             --------------  -----  \n",
      " 0   species            344 non-null    object \n",
      " 1   island             344 non-null    object \n",
      " 2   bill_length_mm     342 non-null    float64\n",
      " 3   bill_depth_mm      342 non-null    float64\n",
      " 4   flipper_length_mm  342 non-null    float64\n",
      " 5   body_mass_g        342 non-null    float64\n",
      " 6   sex                333 non-null    object \n",
      "dtypes: float64(4), object(3)\n",
      "memory usage: 18.9+ KB\n"
     ]
    }
   ],
   "source": [
    "# ¿Qué tipo de datos son las variables del conjunto?\n",
    "penguins_data.info()"
   ]
  },
  {
   "cell_type": "code",
   "execution_count": 11,
   "id": "ca8336f9-c2ba-4778-9840-c3b87b02dde4",
   "metadata": {},
   "outputs": [],
   "source": [
    "resume = meta_df(penguins_data)"
   ]
  },
  {
   "cell_type": "code",
   "execution_count": 12,
   "id": "a24fba4d-7210-41d0-aa5b-ac6dce01a7fd",
   "metadata": {},
   "outputs": [
    {
     "data": {
      "text/html": [
       "<div>\n",
       "<style scoped>\n",
       "    .dataframe tbody tr th:only-of-type {\n",
       "        vertical-align: middle;\n",
       "    }\n",
       "\n",
       "    .dataframe tbody tr th {\n",
       "        vertical-align: top;\n",
       "    }\n",
       "\n",
       "    .dataframe thead th {\n",
       "        text-align: right;\n",
       "    }\n",
       "</style>\n",
       "<table border=\"1\" class=\"dataframe\">\n",
       "  <thead>\n",
       "    <tr style=\"text-align: right;\">\n",
       "      <th></th>\n",
       "      <th>Variable</th>\n",
       "      <th>Data_Type</th>\n",
       "      <th>Valores_Nulos</th>\n",
       "      <th>Distinct_Values</th>\n",
       "    </tr>\n",
       "  </thead>\n",
       "  <tbody>\n",
       "    <tr>\n",
       "      <th>0</th>\n",
       "      <td>species</td>\n",
       "      <td>object</td>\n",
       "      <td>0</td>\n",
       "      <td>3</td>\n",
       "    </tr>\n",
       "    <tr>\n",
       "      <th>1</th>\n",
       "      <td>island</td>\n",
       "      <td>object</td>\n",
       "      <td>0</td>\n",
       "      <td>3</td>\n",
       "    </tr>\n",
       "    <tr>\n",
       "      <th>2</th>\n",
       "      <td>bill_length_mm</td>\n",
       "      <td>float64</td>\n",
       "      <td>2</td>\n",
       "      <td>164</td>\n",
       "    </tr>\n",
       "    <tr>\n",
       "      <th>3</th>\n",
       "      <td>bill_depth_mm</td>\n",
       "      <td>float64</td>\n",
       "      <td>2</td>\n",
       "      <td>80</td>\n",
       "    </tr>\n",
       "    <tr>\n",
       "      <th>4</th>\n",
       "      <td>flipper_length_mm</td>\n",
       "      <td>float64</td>\n",
       "      <td>2</td>\n",
       "      <td>55</td>\n",
       "    </tr>\n",
       "    <tr>\n",
       "      <th>5</th>\n",
       "      <td>body_mass_g</td>\n",
       "      <td>float64</td>\n",
       "      <td>2</td>\n",
       "      <td>94</td>\n",
       "    </tr>\n",
       "    <tr>\n",
       "      <th>6</th>\n",
       "      <td>sex</td>\n",
       "      <td>object</td>\n",
       "      <td>11</td>\n",
       "      <td>2</td>\n",
       "    </tr>\n",
       "  </tbody>\n",
       "</table>\n",
       "</div>"
      ],
      "text/plain": [
       "            Variable Data_Type  Valores_Nulos  Distinct_Values\n",
       "0            species    object              0                3\n",
       "1             island    object              0                3\n",
       "2     bill_length_mm   float64              2              164\n",
       "3      bill_depth_mm   float64              2               80\n",
       "4  flipper_length_mm   float64              2               55\n",
       "5        body_mass_g   float64              2               94\n",
       "6                sex    object             11                2"
      ]
     },
     "execution_count": 12,
     "metadata": {},
     "output_type": "execute_result"
    }
   ],
   "source": [
    "resume"
   ]
  },
  {
   "cell_type": "code",
   "execution_count": 13,
   "id": "325b2ea7-bd3a-4133-b83c-dc39e78a209a",
   "metadata": {},
   "outputs": [],
   "source": [
    "# Eliminar valores nulos\n",
    "\n",
    "penguins_data.dropna(inplace=True)\n",
    "penguins_data.reset_index(drop=True, inplace=True)"
   ]
  },
  {
   "cell_type": "markdown",
   "id": "2b543586-c0da-4d99-8a7e-769bf5a02c7c",
   "metadata": {},
   "source": [
    "## **Análisis**"
   ]
  },
  {
   "cell_type": "markdown",
   "id": "8d25712c-ba59-4ec4-ad83-6741e23419fa",
   "metadata": {},
   "source": [
    "### **1. Análisis Univariado**"
   ]
  },
  {
   "cell_type": "code",
   "execution_count": 14,
   "id": "d5eccc4b-d87a-4c1f-a698-e7f8f657bd69",
   "metadata": {},
   "outputs": [
    {
     "data": {
      "text/html": [
       "<div>\n",
       "<style scoped>\n",
       "    .dataframe tbody tr th:only-of-type {\n",
       "        vertical-align: middle;\n",
       "    }\n",
       "\n",
       "    .dataframe tbody tr th {\n",
       "        vertical-align: top;\n",
       "    }\n",
       "\n",
       "    .dataframe thead th {\n",
       "        text-align: right;\n",
       "    }\n",
       "</style>\n",
       "<table border=\"1\" class=\"dataframe\">\n",
       "  <thead>\n",
       "    <tr style=\"text-align: right;\">\n",
       "      <th></th>\n",
       "      <th>bill_length_mm</th>\n",
       "      <th>bill_depth_mm</th>\n",
       "      <th>flipper_length_mm</th>\n",
       "      <th>body_mass_g</th>\n",
       "    </tr>\n",
       "  </thead>\n",
       "  <tbody>\n",
       "    <tr>\n",
       "      <th>count</th>\n",
       "      <td>333.000000</td>\n",
       "      <td>333.000000</td>\n",
       "      <td>333.000000</td>\n",
       "      <td>333.000000</td>\n",
       "    </tr>\n",
       "    <tr>\n",
       "      <th>mean</th>\n",
       "      <td>43.992793</td>\n",
       "      <td>17.164865</td>\n",
       "      <td>200.966967</td>\n",
       "      <td>4207.057057</td>\n",
       "    </tr>\n",
       "    <tr>\n",
       "      <th>std</th>\n",
       "      <td>5.468668</td>\n",
       "      <td>1.969235</td>\n",
       "      <td>14.015765</td>\n",
       "      <td>805.215802</td>\n",
       "    </tr>\n",
       "    <tr>\n",
       "      <th>min</th>\n",
       "      <td>32.100000</td>\n",
       "      <td>13.100000</td>\n",
       "      <td>172.000000</td>\n",
       "      <td>2700.000000</td>\n",
       "    </tr>\n",
       "    <tr>\n",
       "      <th>25%</th>\n",
       "      <td>39.500000</td>\n",
       "      <td>15.600000</td>\n",
       "      <td>190.000000</td>\n",
       "      <td>3550.000000</td>\n",
       "    </tr>\n",
       "    <tr>\n",
       "      <th>50%</th>\n",
       "      <td>44.500000</td>\n",
       "      <td>17.300000</td>\n",
       "      <td>197.000000</td>\n",
       "      <td>4050.000000</td>\n",
       "    </tr>\n",
       "    <tr>\n",
       "      <th>75%</th>\n",
       "      <td>48.600000</td>\n",
       "      <td>18.700000</td>\n",
       "      <td>213.000000</td>\n",
       "      <td>4775.000000</td>\n",
       "    </tr>\n",
       "    <tr>\n",
       "      <th>max</th>\n",
       "      <td>59.600000</td>\n",
       "      <td>21.500000</td>\n",
       "      <td>231.000000</td>\n",
       "      <td>6300.000000</td>\n",
       "    </tr>\n",
       "  </tbody>\n",
       "</table>\n",
       "</div>"
      ],
      "text/plain": [
       "       bill_length_mm  bill_depth_mm  flipper_length_mm  body_mass_g\n",
       "count      333.000000     333.000000         333.000000   333.000000\n",
       "mean        43.992793      17.164865         200.966967  4207.057057\n",
       "std          5.468668       1.969235          14.015765   805.215802\n",
       "min         32.100000      13.100000         172.000000  2700.000000\n",
       "25%         39.500000      15.600000         190.000000  3550.000000\n",
       "50%         44.500000      17.300000         197.000000  4050.000000\n",
       "75%         48.600000      18.700000         213.000000  4775.000000\n",
       "max         59.600000      21.500000         231.000000  6300.000000"
      ]
     },
     "execution_count": 14,
     "metadata": {},
     "output_type": "execute_result"
    }
   ],
   "source": [
    "# Estadísticos que describen al conjunto de datos \n",
    "penguins_data.describe()"
   ]
  },
  {
   "cell_type": "markdown",
   "id": "ac4a98a5-7f15-447d-9b11-be93e0c6d7a4",
   "metadata": {},
   "source": [
    "#### **Variables categoricas**"
   ]
  },
  {
   "cell_type": "markdown",
   "id": "f69a817b-aae1-44e2-9111-25fb5aae1ae2",
   "metadata": {},
   "source": [
    "#### **1.1 Especie**"
   ]
  },
  {
   "cell_type": "markdown",
   "id": "13afcacd-8179-4b54-b9d8-006202fea420",
   "metadata": {},
   "source": [
    "##### **Conteo de Valores**"
   ]
  },
  {
   "cell_type": "markdown",
   "id": "9b927eb6-4be5-4011-b209-683f7e8c5c33",
   "metadata": {},
   "source": [
    "**Con Pandas**"
   ]
  },
  {
   "cell_type": "code",
   "execution_count": 15,
   "id": "5ced29db-eee0-4f99-88b2-e670696e34c0",
   "metadata": {},
   "outputs": [
    {
     "data": {
      "image/png": "[encoded data removed]",
      "text/plain": [
       "<Figure size 1400x400 with 1 Axes>"
      ]
     },
     "metadata": {},
     "output_type": "display_data"
    }
   ],
   "source": [
    "fig, ax = plt.subplots(figsize=(14, 4))\n",
    "penguins_data['species'].value_counts().plot(kind='bar')\n",
    "plt.show()"
   ]
  },
  {
   "cell_type": "markdown",
   "id": "7725db99-60d4-477f-b1de-f6fb07628137",
   "metadata": {},
   "source": [
    "**Con Seaborn**"
   ]
  },
  {
   "cell_type": "code",
   "execution_count": 16,
   "id": "0e1267ed-ad39-40e6-b533-c8b3cf0c5eef",
   "metadata": {},
   "outputs": [
    {
     "data": {
      "text/html": [
       "<div>\n",
       "<style scoped>\n",
       "    .dataframe tbody tr th:only-of-type {\n",
       "        vertical-align: middle;\n",
       "    }\n",
       "\n",
       "    .dataframe tbody tr th {\n",
       "        vertical-align: top;\n",
       "    }\n",
       "\n",
       "    .dataframe thead th {\n",
       "        text-align: right;\n",
       "    }\n",
       "</style>\n",
       "<table border=\"1\" class=\"dataframe\">\n",
       "  <thead>\n",
       "    <tr style=\"text-align: right;\">\n",
       "      <th></th>\n",
       "      <th>species</th>\n",
       "      <th>penguins</th>\n",
       "    </tr>\n",
       "  </thead>\n",
       "  <tbody>\n",
       "    <tr>\n",
       "      <th>0</th>\n",
       "      <td>Adelie</td>\n",
       "      <td>146</td>\n",
       "    </tr>\n",
       "    <tr>\n",
       "      <th>1</th>\n",
       "      <td>Gentoo</td>\n",
       "      <td>119</td>\n",
       "    </tr>\n",
       "    <tr>\n",
       "      <th>2</th>\n",
       "      <td>Chinstrap</td>\n",
       "      <td>68</td>\n",
       "    </tr>\n",
       "  </tbody>\n",
       "</table>\n",
       "</div>"
      ],
      "text/plain": [
       "     species  penguins\n",
       "0     Adelie       146\n",
       "1     Gentoo       119\n",
       "2  Chinstrap        68"
      ]
     },
     "execution_count": 16,
     "metadata": {},
     "output_type": "execute_result"
    }
   ],
   "source": [
    "penguins_data_species = count_valores(penguins_data, 'species')\n",
    "penguins_data_species"
   ]
  },
  {
   "cell_type": "code",
   "execution_count": 17,
   "id": "9f3ede47-5904-4921-bfc6-68c328c10882",
   "metadata": {},
   "outputs": [
    {
     "data": {
      "image/png": "[encoded data removed]",
      "text/plain": [
       "<Figure size 1400x500 with 1 Axes>"
      ]
     },
     "metadata": {},
     "output_type": "display_data"
    }
   ],
   "source": [
    "graph_bar(penguins_data_species, 'species')"
   ]
  },
  {
   "cell_type": "markdown",
   "id": "8c143847-4c4e-46a4-b9c8-5dfe6765c711",
   "metadata": {},
   "source": [
    "##### **Graficando las proporciones**"
   ]
  },
  {
   "cell_type": "code",
   "execution_count": 18,
   "id": "7b69b09a-9f9a-403d-9638-bcc9d54bb3eb",
   "metadata": {},
   "outputs": [
    {
     "data": {
      "text/html": [
       "<div>\n",
       "<style scoped>\n",
       "    .dataframe tbody tr th:only-of-type {\n",
       "        vertical-align: middle;\n",
       "    }\n",
       "\n",
       "    .dataframe tbody tr th {\n",
       "        vertical-align: top;\n",
       "    }\n",
       "\n",
       "    .dataframe thead th {\n",
       "        text-align: right;\n",
       "    }\n",
       "</style>\n",
       "<table border=\"1\" class=\"dataframe\">\n",
       "  <thead>\n",
       "    <tr style=\"text-align: right;\">\n",
       "      <th></th>\n",
       "      <th>species</th>\n",
       "      <th>penguins</th>\n",
       "      <th>%</th>\n",
       "    </tr>\n",
       "  </thead>\n",
       "  <tbody>\n",
       "    <tr>\n",
       "      <th>0</th>\n",
       "      <td>Adelie</td>\n",
       "      <td>146</td>\n",
       "      <td>44</td>\n",
       "    </tr>\n",
       "    <tr>\n",
       "      <th>1</th>\n",
       "      <td>Gentoo</td>\n",
       "      <td>119</td>\n",
       "      <td>36</td>\n",
       "    </tr>\n",
       "    <tr>\n",
       "      <th>2</th>\n",
       "      <td>Chinstrap</td>\n",
       "      <td>68</td>\n",
       "      <td>20</td>\n",
       "    </tr>\n",
       "  </tbody>\n",
       "</table>\n",
       "</div>"
      ],
      "text/plain": [
       "     species  penguins   %\n",
       "0     Adelie       146  44\n",
       "1     Gentoo       119  36\n",
       "2  Chinstrap        68  20"
      ]
     },
     "execution_count": 18,
     "metadata": {},
     "output_type": "execute_result"
    }
   ],
   "source": [
    "penguins_species = proportions_values(penguins_data, 'species')\n",
    "penguins_species"
   ]
  },
  {
   "cell_type": "code",
   "execution_count": 19,
   "id": "d2b35eb4-228c-4fd3-a621-70dc177dd51a",
   "metadata": {},
   "outputs": [
    {
     "data": {
      "image/png": "[encoded data removed]",
      "text/plain": [
       "<Figure size 100x500 with 1 Axes>"
      ]
     },
     "metadata": {},
     "output_type": "display_data"
    }
   ],
   "source": [
    "graph_proportions(penguins_species, 'species')"
   ]
  },
  {
   "cell_type": "markdown",
   "id": "8bf42afd-a3a0-44f3-95af-6ca47e5f30b6",
   "metadata": {},
   "source": [
    "#### **1.2 Isla**"
   ]
  },
  {
   "cell_type": "markdown",
   "id": "aebf5b60-123c-4e86-b3e0-f539f64445a6",
   "metadata": {},
   "source": [
    "##### **Conteo de Valores**"
   ]
  },
  {
   "cell_type": "code",
   "execution_count": 18,
   "id": "8a0067db-09bc-4d2f-a3fb-d91337c3d950",
   "metadata": {},
   "outputs": [
    {
     "data": {
      "text/html": [
       "<div>\n",
       "<style scoped>\n",
       "    .dataframe tbody tr th:only-of-type {\n",
       "        vertical-align: middle;\n",
       "    }\n",
       "\n",
       "    .dataframe tbody tr th {\n",
       "        vertical-align: top;\n",
       "    }\n",
       "\n",
       "    .dataframe thead th {\n",
       "        text-align: right;\n",
       "    }\n",
       "</style>\n",
       "<table border=\"1\" class=\"dataframe\">\n",
       "  <thead>\n",
       "    <tr style=\"text-align: right;\">\n",
       "      <th></th>\n",
       "      <th>island</th>\n",
       "      <th>penguins</th>\n",
       "    </tr>\n",
       "  </thead>\n",
       "  <tbody>\n",
       "    <tr>\n",
       "      <th>0</th>\n",
       "      <td>Biscoe</td>\n",
       "      <td>163</td>\n",
       "    </tr>\n",
       "    <tr>\n",
       "      <th>1</th>\n",
       "      <td>Dream</td>\n",
       "      <td>123</td>\n",
       "    </tr>\n",
       "    <tr>\n",
       "      <th>2</th>\n",
       "      <td>Torgersen</td>\n",
       "      <td>47</td>\n",
       "    </tr>\n",
       "  </tbody>\n",
       "</table>\n",
       "</div>"
      ],
      "text/plain": [
       "      island  penguins\n",
       "0     Biscoe       163\n",
       "1      Dream       123\n",
       "2  Torgersen        47"
      ]
     },
     "execution_count": 18,
     "metadata": {},
     "output_type": "execute_result"
    }
   ],
   "source": [
    "penguins_data_island = count_valores(penguins_data, 'island')\n",
    "penguins_data_island"
   ]
  },
  {
   "cell_type": "code",
   "execution_count": 19,
   "id": "34425e91-f782-4419-9421-a5bacea12585",
   "metadata": {},
   "outputs": [
    {
     "data": {
      "image/png": "[encoded data removed]",
      "text/plain": [
       "<Figure size 1400x500 with 1 Axes>"
      ]
     },
     "metadata": {},
     "output_type": "display_data"
    }
   ],
   "source": [
    "graph_bar(penguins_data_island, 'island')"
   ]
  },
  {
   "cell_type": "markdown",
   "id": "48cfe9b2-5495-4e79-8010-ef6b28fc35b1",
   "metadata": {},
   "source": [
    "##### **Graficando las proporciones**"
   ]
  },
  {
   "cell_type": "code",
   "execution_count": 20,
   "id": "af7ec967-39d7-43a6-8ef3-634a07472ed1",
   "metadata": {},
   "outputs": [
    {
     "data": {
      "text/html": [
       "<div>\n",
       "<style scoped>\n",
       "    .dataframe tbody tr th:only-of-type {\n",
       "        vertical-align: middle;\n",
       "    }\n",
       "\n",
       "    .dataframe tbody tr th {\n",
       "        vertical-align: top;\n",
       "    }\n",
       "\n",
       "    .dataframe thead th {\n",
       "        text-align: right;\n",
       "    }\n",
       "</style>\n",
       "<table border=\"1\" class=\"dataframe\">\n",
       "  <thead>\n",
       "    <tr style=\"text-align: right;\">\n",
       "      <th></th>\n",
       "      <th>island</th>\n",
       "      <th>penguins</th>\n",
       "      <th>%</th>\n",
       "    </tr>\n",
       "  </thead>\n",
       "  <tbody>\n",
       "    <tr>\n",
       "      <th>0</th>\n",
       "      <td>Biscoe</td>\n",
       "      <td>163</td>\n",
       "      <td>49</td>\n",
       "    </tr>\n",
       "    <tr>\n",
       "      <th>1</th>\n",
       "      <td>Dream</td>\n",
       "      <td>123</td>\n",
       "      <td>37</td>\n",
       "    </tr>\n",
       "    <tr>\n",
       "      <th>2</th>\n",
       "      <td>Torgersen</td>\n",
       "      <td>47</td>\n",
       "      <td>14</td>\n",
       "    </tr>\n",
       "  </tbody>\n",
       "</table>\n",
       "</div>"
      ],
      "text/plain": [
       "      island  penguins   %\n",
       "0     Biscoe       163  49\n",
       "1      Dream       123  37\n",
       "2  Torgersen        47  14"
      ]
     },
     "execution_count": 20,
     "metadata": {},
     "output_type": "execute_result"
    }
   ],
   "source": [
    "penguins_island = proportions_values(penguins_data, 'island')\n",
    "penguins_island"
   ]
  },
  {
   "cell_type": "code",
   "execution_count": 21,
   "id": "e4598d5b-aaea-48c1-82de-a7122951e289",
   "metadata": {},
   "outputs": [
    {
     "data": {
      "image/png": "[encoded data removed]",
      "text/plain": [
       "<Figure size 100x500 with 1 Axes>"
      ]
     },
     "metadata": {},
     "output_type": "display_data"
    }
   ],
   "source": [
    "graph_proportions(penguins_island, 'island')"
   ]
  },
  {
   "cell_type": "markdown",
   "id": "d50242c6-3beb-42fb-90f1-90c3230f57fa",
   "metadata": {},
   "source": [
    "#### **1.3 Sexo**"
   ]
  },
  {
   "cell_type": "markdown",
   "id": "a3e29084-f079-495d-bcbe-d58f77cadbe9",
   "metadata": {},
   "source": [
    "##### **Conteo de Valores**"
   ]
  },
  {
   "cell_type": "code",
   "execution_count": 22,
   "id": "18d81d96-706c-4298-97ee-fd4392425717",
   "metadata": {},
   "outputs": [
    {
     "data": {
      "text/html": [
       "<div>\n",
       "<style scoped>\n",
       "    .dataframe tbody tr th:only-of-type {\n",
       "        vertical-align: middle;\n",
       "    }\n",
       "\n",
       "    .dataframe tbody tr th {\n",
       "        vertical-align: top;\n",
       "    }\n",
       "\n",
       "    .dataframe thead th {\n",
       "        text-align: right;\n",
       "    }\n",
       "</style>\n",
       "<table border=\"1\" class=\"dataframe\">\n",
       "  <thead>\n",
       "    <tr style=\"text-align: right;\">\n",
       "      <th></th>\n",
       "      <th>sex</th>\n",
       "      <th>penguins</th>\n",
       "    </tr>\n",
       "  </thead>\n",
       "  <tbody>\n",
       "    <tr>\n",
       "      <th>0</th>\n",
       "      <td>Male</td>\n",
       "      <td>168</td>\n",
       "    </tr>\n",
       "    <tr>\n",
       "      <th>1</th>\n",
       "      <td>Female</td>\n",
       "      <td>165</td>\n",
       "    </tr>\n",
       "  </tbody>\n",
       "</table>\n",
       "</div>"
      ],
      "text/plain": [
       "      sex  penguins\n",
       "0    Male       168\n",
       "1  Female       165"
      ]
     },
     "execution_count": 22,
     "metadata": {},
     "output_type": "execute_result"
    }
   ],
   "source": [
    "penguins_data_sex = count_valores(penguins_data, 'sex')\n",
    "penguins_data_sex"
   ]
  },
  {
   "cell_type": "code",
   "execution_count": 23,
   "id": "8016da1e-fcb3-43df-bf96-a4c1abe68170",
   "metadata": {},
   "outputs": [
    {
     "data": {
      "image/png": "[encoded data removed]",
      "text/plain": [
       "<Figure size 1400x500 with 1 Axes>"
      ]
     },
     "metadata": {},
     "output_type": "display_data"
    }
   ],
   "source": [
    "graph_bar(penguins_data_sex, 'sex')"
   ]
  },
  {
   "cell_type": "markdown",
   "id": "dfd2f2d5-a495-4e72-9aec-8e2c231bf7c8",
   "metadata": {},
   "source": [
    "##### **Graficando las proporciones**"
   ]
  },
  {
   "cell_type": "code",
   "execution_count": 24,
   "id": "c5333d10-8db8-45d7-8b33-e91a2f49fcbe",
   "metadata": {},
   "outputs": [
    {
     "data": {
      "text/html": [
       "<div>\n",
       "<style scoped>\n",
       "    .dataframe tbody tr th:only-of-type {\n",
       "        vertical-align: middle;\n",
       "    }\n",
       "\n",
       "    .dataframe tbody tr th {\n",
       "        vertical-align: top;\n",
       "    }\n",
       "\n",
       "    .dataframe thead th {\n",
       "        text-align: right;\n",
       "    }\n",
       "</style>\n",
       "<table border=\"1\" class=\"dataframe\">\n",
       "  <thead>\n",
       "    <tr style=\"text-align: right;\">\n",
       "      <th></th>\n",
       "      <th>sex</th>\n",
       "      <th>penguins</th>\n",
       "      <th>%</th>\n",
       "    </tr>\n",
       "  </thead>\n",
       "  <tbody>\n",
       "    <tr>\n",
       "      <th>0</th>\n",
       "      <td>Male</td>\n",
       "      <td>168</td>\n",
       "      <td>50</td>\n",
       "    </tr>\n",
       "    <tr>\n",
       "      <th>1</th>\n",
       "      <td>Female</td>\n",
       "      <td>165</td>\n",
       "      <td>50</td>\n",
       "    </tr>\n",
       "  </tbody>\n",
       "</table>\n",
       "</div>"
      ],
      "text/plain": [
       "      sex  penguins   %\n",
       "0    Male       168  50\n",
       "1  Female       165  50"
      ]
     },
     "execution_count": 24,
     "metadata": {},
     "output_type": "execute_result"
    }
   ],
   "source": [
    "penguins_sex = proportions_values(penguins_data, 'sex')\n",
    "penguins_sex"
   ]
  },
  {
   "cell_type": "code",
   "execution_count": 25,
   "id": "42c1a6a7-c502-4b58-81d3-10a71fe61a08",
   "metadata": {},
   "outputs": [
    {
     "data": {
      "image/png": "[encoded data removed]",
      "text/plain": [
       "<Figure size 100x500 with 1 Axes>"
      ]
     },
     "metadata": {},
     "output_type": "display_data"
    }
   ],
   "source": [
    "graph_proportions(penguins_sex, 'sex')"
   ]
  },
  {
   "cell_type": "markdown",
   "id": "366a80c5-9621-428f-bf76-8bd727811c46",
   "metadata": {},
   "source": [
    "#### **Variables numéricas**"
   ]
  },
  {
   "cell_type": "markdown",
   "id": "c7625ac8-fdbe-47ac-88fe-a687c7e62585",
   "metadata": {},
   "source": [
    "#### **1.4 Longitud del Pico**"
   ]
  },
  {
   "cell_type": "markdown",
   "id": "ca5b1419-83a3-4eab-96ee-4d929682db72",
   "metadata": {},
   "source": [
    "##### **Medidas de Tendencia Central**"
   ]
  },
  {
   "cell_type": "code",
   "execution_count": 26,
   "id": "7bd09560-8903-43cf-8459-7b8ed7b75549",
   "metadata": {},
   "outputs": [
    {
     "data": {
      "text/plain": [
       "43.99279279279279"
      ]
     },
     "execution_count": 26,
     "metadata": {},
     "output_type": "execute_result"
    }
   ],
   "source": [
    "# Media\n",
    "penguins_data['bill_length_mm'].mean()"
   ]
  },
  {
   "cell_type": "code",
   "execution_count": 27,
   "id": "b6808531-4f07-4c63-ac2f-c23c2e202086",
   "metadata": {},
   "outputs": [
    {
     "data": {
      "text/plain": [
       "44.5"
      ]
     },
     "execution_count": 27,
     "metadata": {},
     "output_type": "execute_result"
    }
   ],
   "source": [
    "# Mediana\n",
    "penguins_data['bill_length_mm'].median()"
   ]
  },
  {
   "cell_type": "code",
   "execution_count": 28,
   "id": "e3401ea0-6924-44a1-9ea7-ff806228f479",
   "metadata": {},
   "outputs": [
    {
     "data": {
      "text/plain": [
       "ModeResult(mode=array([41.1]), count=array([7]))"
      ]
     },
     "execution_count": 28,
     "metadata": {},
     "output_type": "execute_result"
    }
   ],
   "source": [
    "# Moda\n",
    "stats.mode(penguins_data['bill_length_mm'])"
   ]
  },
  {
   "cell_type": "markdown",
   "id": "9cf58147-6b50-4d73-8d2a-11416f5eb767",
   "metadata": {},
   "source": [
    "##### **Medidas de Dispersión**"
   ]
  },
  {
   "cell_type": "code",
   "execution_count": null,
   "id": "a3095275-4c50-48e7-98ed-74b5d99c1dfa",
   "metadata": {},
   "outputs": [],
   "source": []
  },
  {
   "cell_type": "code",
   "execution_count": null,
   "id": "4a8e3f33-8175-4ca7-bbf9-585b212c223a",
   "metadata": {},
   "outputs": [],
   "source": []
  },
  {
   "cell_type": "code",
   "execution_count": null,
   "id": "50e7a0bd-4a55-4384-a1f0-645113b0948d",
   "metadata": {},
   "outputs": [],
   "source": []
  },
  {
   "cell_type": "code",
   "execution_count": null,
   "id": "77593347-8de2-4893-9bac-9a59ea4acb94",
   "metadata": {},
   "outputs": [],
   "source": []
  },
  {
   "cell_type": "code",
   "execution_count": null,
   "id": "813fd8ab-9ab1-45f8-b64e-d02120ca0ecb",
   "metadata": {},
   "outputs": [],
   "source": []
  },
  {
   "cell_type": "markdown",
   "id": "a1e3fb9e-9c99-47ef-aa36-a5e7710c8565",
   "metadata": {},
   "source": [
    "#### **1.5 Profundidad del Pico**"
   ]
  },
  {
   "cell_type": "markdown",
   "id": "bd692a8f-a420-4fe4-8d34-ac09e35ddfdb",
   "metadata": {},
   "source": [
    "##### **Medidas de Tendencia Central**"
   ]
  },
  {
   "cell_type": "code",
   "execution_count": 28,
   "id": "07ff5858-440f-4cd9-8e54-528035ce53c6",
   "metadata": {},
   "outputs": [
    {
     "data": {
      "text/plain": [
       "17.164864864864864"
      ]
     },
     "execution_count": 28,
     "metadata": {},
     "output_type": "execute_result"
    }
   ],
   "source": [
    "# Media\n",
    "penguins_data['bill_depth_mm'].mean()"
   ]
  },
  {
   "cell_type": "code",
   "execution_count": 29,
   "id": "20242902-d53c-45b1-97d2-5ef74e40b3e6",
   "metadata": {},
   "outputs": [
    {
     "data": {
      "text/plain": [
       "17.3"
      ]
     },
     "execution_count": 29,
     "metadata": {},
     "output_type": "execute_result"
    }
   ],
   "source": [
    "# Mediana\n",
    "penguins_data['bill_depth_mm'].median()"
   ]
  },
  {
   "cell_type": "code",
   "execution_count": 30,
   "id": "93c2ac87-c9a6-4512-abd7-981d48e3ef49",
   "metadata": {},
   "outputs": [
    {
     "data": {
      "text/plain": [
       "ModeResult(mode=array([17.]), count=array([12]))"
      ]
     },
     "execution_count": 30,
     "metadata": {},
     "output_type": "execute_result"
    }
   ],
   "source": [
    "# Moda\n",
    "stats.mode(penguins_data['bill_depth_mm'])"
   ]
  },
  {
   "cell_type": "markdown",
   "id": "e98724bc-18c3-4d91-9f8c-d1104e0053b6",
   "metadata": {},
   "source": [
    "#### **1.6 Longitud de la aleta**"
   ]
  },
  {
   "cell_type": "markdown",
   "id": "85c1b79d-db37-4bc6-abfa-b56da933b2a4",
   "metadata": {},
   "source": [
    "##### **Medidas de Tendencia Central**"
   ]
  },
  {
   "cell_type": "code",
   "execution_count": 31,
   "id": "50dc071b-5bf1-43eb-88f6-ca9136c38efc",
   "metadata": {},
   "outputs": [
    {
     "data": {
      "text/plain": [
       "200.96696696696696"
      ]
     },
     "execution_count": 31,
     "metadata": {},
     "output_type": "execute_result"
    }
   ],
   "source": [
    "# Media\n",
    "penguins_data['flipper_length_mm'].mean()"
   ]
  },
  {
   "cell_type": "code",
   "execution_count": 32,
   "id": "1313a189-6e14-4905-a455-bbecc8e7dda1",
   "metadata": {},
   "outputs": [
    {
     "data": {
      "text/plain": [
       "197.0"
      ]
     },
     "execution_count": 32,
     "metadata": {},
     "output_type": "execute_result"
    }
   ],
   "source": [
    "# Mediana\n",
    "penguins_data['flipper_length_mm'].median()"
   ]
  },
  {
   "cell_type": "code",
   "execution_count": 33,
   "id": "4e0d4b5c-3081-4fa4-8702-fb550e41b928",
   "metadata": {},
   "outputs": [
    {
     "data": {
      "text/plain": [
       "ModeResult(mode=array([190.]), count=array([21]))"
      ]
     },
     "execution_count": 33,
     "metadata": {},
     "output_type": "execute_result"
    }
   ],
   "source": [
    "# Moda\n",
    "stats.mode(penguins_data['flipper_length_mm'])"
   ]
  },
  {
   "cell_type": "code",
   "execution_count": 34,
   "id": "8f17af10-c1f8-4fb5-97bc-836490623c4b",
   "metadata": {},
   "outputs": [
    {
     "data": {
      "text/html": [
       "<div>\n",
       "<style scoped>\n",
       "    .dataframe tbody tr th:only-of-type {\n",
       "        vertical-align: middle;\n",
       "    }\n",
       "\n",
       "    .dataframe tbody tr th {\n",
       "        vertical-align: top;\n",
       "    }\n",
       "\n",
       "    .dataframe thead th {\n",
       "        text-align: right;\n",
       "    }\n",
       "</style>\n",
       "<table border=\"1\" class=\"dataframe\">\n",
       "  <thead>\n",
       "    <tr style=\"text-align: right;\">\n",
       "      <th></th>\n",
       "      <th>species</th>\n",
       "      <th>island</th>\n",
       "      <th>bill_length_mm</th>\n",
       "      <th>bill_depth_mm</th>\n",
       "      <th>flipper_length_mm</th>\n",
       "      <th>body_mass_g</th>\n",
       "      <th>sex</th>\n",
       "    </tr>\n",
       "  </thead>\n",
       "  <tbody>\n",
       "    <tr>\n",
       "      <th>2</th>\n",
       "      <td>Adelie</td>\n",
       "      <td>Torgersen</td>\n",
       "      <td>40.3</td>\n",
       "      <td>18.0</td>\n",
       "      <td>195.0</td>\n",
       "      <td>3250.0</td>\n",
       "      <td>Female</td>\n",
       "    </tr>\n",
       "  </tbody>\n",
       "</table>\n",
       "</div>"
      ],
      "text/plain": [
       "  species     island  bill_length_mm  bill_depth_mm  flipper_length_mm  body_mass_g     sex\n",
       "2  Adelie  Torgersen            40.3           18.0              195.0       3250.0  Female"
      ]
     },
     "execution_count": 34,
     "metadata": {},
     "output_type": "execute_result"
    }
   ],
   "source": [
    "penguins_data.sample()"
   ]
  },
  {
   "cell_type": "markdown",
   "id": "aedd2b72-ecdd-4c65-a950-b0d4c96a1470",
   "metadata": {},
   "source": [
    "#### **1.7 Masa corporal**"
   ]
  },
  {
   "cell_type": "markdown",
   "id": "7a113f6c-0bcb-4def-b6b0-c50cd9b3fbf4",
   "metadata": {},
   "source": [
    "##### **Medidas de Tendencia Central**"
   ]
  },
  {
   "cell_type": "code",
   "execution_count": 35,
   "id": "8fa57ba0-f166-4220-9827-956309b8c58c",
   "metadata": {},
   "outputs": [
    {
     "data": {
      "text/plain": [
       "4207.057057057057"
      ]
     },
     "execution_count": 35,
     "metadata": {},
     "output_type": "execute_result"
    }
   ],
   "source": [
    "# Media\n",
    "penguins_data['body_mass_g'].mean()"
   ]
  },
  {
   "cell_type": "code",
   "execution_count": 36,
   "id": "6dafd71c-4056-4230-98a2-d7fc306d3b48",
   "metadata": {},
   "outputs": [
    {
     "data": {
      "text/plain": [
       "4050.0"
      ]
     },
     "execution_count": 36,
     "metadata": {},
     "output_type": "execute_result"
    }
   ],
   "source": [
    "# Mediana\n",
    "penguins_data['body_mass_g'].median()"
   ]
  },
  {
   "cell_type": "code",
   "execution_count": 37,
   "id": "6e031756-ae6d-4270-ba4b-d13824adeed4",
   "metadata": {},
   "outputs": [
    {
     "data": {
      "text/plain": [
       "ModeResult(mode=array([3800.]), count=array([12]))"
      ]
     },
     "execution_count": 37,
     "metadata": {},
     "output_type": "execute_result"
    }
   ],
   "source": [
    "# Moda\n",
    "stats.mode(penguins_data['body_mass_g'])"
   ]
  },
  {
   "cell_type": "code",
   "execution_count": null,
   "id": "19dda395-c51c-4805-8482-86c951c117b9",
   "metadata": {},
   "outputs": [],
   "source": []
  },
  {
   "cell_type": "code",
   "execution_count": null,
   "id": "346a0a71-876c-4517-bdd8-5538a268e153",
   "metadata": {},
   "outputs": [],
   "source": []
  },
  {
   "cell_type": "code",
   "execution_count": null,
   "id": "9e1bc01f-279e-421c-993c-c1bf8a69dfa0",
   "metadata": {},
   "outputs": [],
   "source": []
  },
  {
   "cell_type": "code",
   "execution_count": null,
   "id": "a51ce7b0-5241-4f79-8810-ceab602e94b8",
   "metadata": {},
   "outputs": [],
   "source": []
  },
  {
   "cell_type": "code",
   "execution_count": null,
   "id": "1ad52588-e787-4206-a12a-43c449bf8901",
   "metadata": {},
   "outputs": [],
   "source": []
  },
  {
   "cell_type": "code",
   "execution_count": null,
   "id": "cdbf7997-5b16-438e-9485-7c05c05e5776",
   "metadata": {},
   "outputs": [],
   "source": []
  },
  {
   "cell_type": "code",
   "execution_count": null,
   "id": "6ea5c49f-1da2-461b-b37d-047f89d73182",
   "metadata": {},
   "outputs": [],
   "source": []
  },
  {
   "cell_type": "code",
   "execution_count": null,
   "id": "67c0c7cf-412e-4e57-bd2c-271399a5e3fc",
   "metadata": {},
   "outputs": [],
   "source": []
  },
  {
   "cell_type": "code",
   "execution_count": null,
   "id": "20d77b62-20e1-4fd5-9050-ca94ce73dd71",
   "metadata": {},
   "outputs": [],
   "source": []
  },
  {
   "cell_type": "code",
   "execution_count": null,
   "id": "372d484c-7b25-48ea-8fd0-34ebd5285097",
   "metadata": {},
   "outputs": [],
   "source": []
  },
  {
   "cell_type": "code",
   "execution_count": null,
   "id": "57f5439a-b66e-440d-9303-5b27ac8dfbcc",
   "metadata": {},
   "outputs": [],
   "source": []
  },
  {
   "cell_type": "code",
   "execution_count": null,
   "id": "a712b680-9ab6-417c-9018-1c8f8506a8aa",
   "metadata": {},
   "outputs": [],
   "source": []
  },
  {
   "cell_type": "code",
   "execution_count": 38,
   "id": "9eaae923-753e-4220-ac65-f87591473b21",
   "metadata": {},
   "outputs": [
    {
     "data": {
      "text/html": [
       "<div>\n",
       "<style scoped>\n",
       "    .dataframe tbody tr th:only-of-type {\n",
       "        vertical-align: middle;\n",
       "    }\n",
       "\n",
       "    .dataframe tbody tr th {\n",
       "        vertical-align: top;\n",
       "    }\n",
       "\n",
       "    .dataframe thead th {\n",
       "        text-align: right;\n",
       "    }\n",
       "</style>\n",
       "<table border=\"1\" class=\"dataframe\">\n",
       "  <thead>\n",
       "    <tr style=\"text-align: right;\">\n",
       "      <th></th>\n",
       "      <th>Adelie</th>\n",
       "      <th>Chinstrap</th>\n",
       "      <th>Gentoo</th>\n",
       "    </tr>\n",
       "    <tr>\n",
       "      <th>island</th>\n",
       "      <th></th>\n",
       "      <th></th>\n",
       "      <th></th>\n",
       "    </tr>\n",
       "  </thead>\n",
       "  <tbody>\n",
       "    <tr>\n",
       "      <th>Biscoe</th>\n",
       "      <td>44</td>\n",
       "      <td>0</td>\n",
       "      <td>119</td>\n",
       "    </tr>\n",
       "    <tr>\n",
       "      <th>Dream</th>\n",
       "      <td>55</td>\n",
       "      <td>68</td>\n",
       "      <td>0</td>\n",
       "    </tr>\n",
       "    <tr>\n",
       "      <th>Torgersen</th>\n",
       "      <td>47</td>\n",
       "      <td>0</td>\n",
       "      <td>0</td>\n",
       "    </tr>\n",
       "  </tbody>\n",
       "</table>\n",
       "</div>"
      ],
      "text/plain": [
       "           Adelie  Chinstrap  Gentoo\n",
       "island                              \n",
       "Biscoe         44          0     119\n",
       "Dream          55         68       0\n",
       "Torgersen      47          0       0"
      ]
     },
     "execution_count": 38,
     "metadata": {},
     "output_type": "execute_result"
    }
   ],
   "source": [
    "penguins_x_island = pd.crosstab(index=penguins_data['island'], columns=penguins_data['species']).reset_index()\n",
    "penguins_x_island.columns = ['island', 'Adelie', 'Chinstrap', 'Gentoo']\n",
    "penguins_x_island.set_index('island', inplace=True)\n",
    "penguins_x_island"
   ]
  },
  {
   "cell_type": "code",
   "execution_count": 40,
   "id": "53ad8cae-8992-40ef-82a0-786886cff4dd",
   "metadata": {},
   "outputs": [],
   "source": [
    "r = [i for i in range(len(penguins_x_island))]\n",
    "\n",
    "totals = [i+j+k for i,j,k in zip(penguins_x_island['Adelie'], penguins_x_island['Chinstrap'], penguins_x_island['Gentoo'])]\n",
    "adelie_Bars = [i / j * 100 for i,j in zip(penguins_x_island['Adelie'], totals)]\n",
    "chinstrap_Bars = [i / j * 100 for i,j in zip(penguins_x_island['Chinstrap'], totals)]\n",
    "gentoo_Bars = [i / j * 100 for i,j in zip(penguins_x_island['Gentoo'], totals)]"
   ]
  },
  {
   "cell_type": "code",
   "execution_count": 41,
   "id": "26da0313-9658-482e-a128-771b500e2e3b",
   "metadata": {},
   "outputs": [
    {
     "data": {
      "image/png": "[encoded data removed]",
      "text/plain": [
       "<Figure size 700x400 with 1 Axes>"
      ]
     },
     "metadata": {},
     "output_type": "display_data"
    }
   ],
   "source": [
    "# plot\n",
    "barWidth = 0.5\n",
    "names = list(penguins_x_island.index)\n",
    "y_offset = -15\n",
    "\n",
    "# fig, ax = plt.subplots()\n",
    "fig, ax = plt.subplots(figsize=(7, 4))\n",
    "\n",
    "plt.title(\n",
    "    'Especie de pinguino por isla', \n",
    "    fontweight=1000, \n",
    "    size=12, \n",
    "    color='white'\n",
    ")\n",
    "\n",
    "fig.patch.set_facecolor('#21252b') \n",
    "ax.set_facecolor('#282c34') \n",
    "\n",
    "# Create Bars\n",
    "plt.bar(r, adelie_Bars, color='#1d3461', width=barWidth, label='Adelie')\n",
    "plt.bar(r, chinstrap_Bars, bottom=adelie_Bars, color='#376996', width=barWidth, label='Chinstrap')\n",
    "plt.bar(r, gentoo_Bars, bottom=[i+j for i,j in zip(adelie_Bars, chinstrap_Bars)], color='#829cbc', width=barWidth, label='Gentoo')\n",
    " \n",
    "# Custom axis\n",
    "plt.xticks(r, names, color='white', size=10)\n",
    "plt.xlabel(\"Isla\", fontweight=1000,color='white')\n",
    " \n",
    "plt.yticks(color='white', size=10)\n",
    "    \n",
    "# Add labels\n",
    "for bar in ax.patches:\n",
    "    if bar.get_height() != 0:\n",
    "        ax.text(\n",
    "          bar.get_x() + bar.get_width() / 2,\n",
    "          bar.get_height() + bar.get_y() + y_offset,\n",
    "          f'{round(bar.get_height())}%',\n",
    "          ha='center',\n",
    "          color='black',\n",
    "          size=10\n",
    "      )    \n",
    "        \n",
    "plt.legend(loc='lower right', title='Especies', bbox_to_anchor=(1.25, 0.7), borderaxespad=0)\n",
    "\n",
    "# Show graphic\n",
    "plt.show()"
   ]
  },
  {
   "cell_type": "code",
   "execution_count": null,
   "id": "bf202ed4-f8d3-4ade-addb-b7cb52b5f5ba",
   "metadata": {},
   "outputs": [],
   "source": []
  },
  {
   "cell_type": "code",
   "execution_count": null,
   "id": "413f1f29-541c-4ce1-8a25-c80381f1ba6f",
   "metadata": {},
   "outputs": [],
   "source": []
  },
  {
   "cell_type": "code",
   "execution_count": null,
   "id": "6ab5fabe-f6ee-46a5-a609-28f51678b767",
   "metadata": {},
   "outputs": [],
   "source": []
  },
  {
   "cell_type": "code",
   "execution_count": null,
   "id": "fb6de0ef-3ac3-49bf-ba49-f78388ec1da5",
   "metadata": {},
   "outputs": [],
   "source": []
  },
  {
   "cell_type": "code",
   "execution_count": null,
   "id": "97942845-dc09-4e06-8754-4fd052b57898",
   "metadata": {},
   "outputs": [],
   "source": []
  },
  {
   "cell_type": "code",
   "execution_count": null,
   "id": "a2e8aaf8-c994-44e5-a4de-bd5f98abb7c6",
   "metadata": {},
   "outputs": [],
   "source": []
  },
  {
   "cell_type": "code",
   "execution_count": null,
   "id": "f4bf39f8-dbe5-44aa-9766-937c5280f611",
   "metadata": {},
   "outputs": [],
   "source": []
  }
 ],
 "metadata": {
  "kernelspec": {
   "display_name": "Python 3 (ipykernel)",
   "language": "python",
   "name": "python3"
  },
  "language_info": {
   "codemirror_mode": {
    "name": "ipython",
    "version": 3
   },
   "file_extension": ".py",
   "mimetype": "text/x-python",
   "name": "python",
   "nbconvert_exporter": "python",
   "pygments_lexer": "ipython3",
   "version": "3.9.13"
  },
  "vscode": {
   "interpreter": {
    "hash": "6a789dfa835230ebb7620d225cd129b0e10e9ac8573eae947b38c72213cfe3dd"
   }
  }
 },
 "nbformat": 4,
 "nbformat_minor": 5
}
